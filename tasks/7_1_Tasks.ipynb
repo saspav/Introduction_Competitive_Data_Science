{
 "cells": [
  {
   "cell_type": "markdown",
   "metadata": {
    "id": "tQFfZ4nx_fMo"
   },
   "source": [
    "# Задача на 4-ом шаге урока"
   ]
  },
  {
   "cell_type": "markdown",
   "metadata": {
    "id": "Q2_wV79Pnea_"
   },
   "source": [
    "**🤜 Универсальный ужиматель 🤛**"
   ]
  },
  {
   "cell_type": "markdown",
   "metadata": {
    "id": "Q9Wd53aa9HKf"
   },
   "source": [
    "В ноутбуке этого урока мы реализовали функцию reduce_mem_usage"
   ]
  },
  {
   "cell_type": "code",
   "execution_count": 1,
   "metadata": {
    "id": "Z982cnrJ82qi"
   },
   "outputs": [],
   "source": [
    "def reduce_mem_usage(df):\n",
    "    \"\"\" iterate through all the columns of a dataframe and modify the data type\n",
    "        to reduce memory usage.\n",
    "    \"\"\"\n",
    "    start_mem = df.memory_usage().sum() / 1024**2\n",
    "    print('Memory usage of dataframe is {:.2f} MB'.format(start_mem))\n",
    "\n",
    "    for col in df.columns:\n",
    "        col_type = df[col].dtype.name\n",
    "\n",
    "        if col_type not in ['object', 'category', 'datetime64[ns, UTC]']:\n",
    "            c_min = df[col].min()\n",
    "            c_max = df[col].max()\n",
    "            if str(col_type)[:3] == 'int':\n",
    "                if c_min > np.iinfo(np.int8).min and c_max < np.iinfo(np.int8).max:\n",
    "                    df[col] = df[col].astype(np.int8)\n",
    "                elif c_min > np.iinfo(np.int16).min and c_max < np.iinfo(np.int16).max:\n",
    "                    df[col] = df[col].astype(np.int16)\n",
    "                elif c_min > np.iinfo(np.int32).min and c_max < np.iinfo(np.int32).max:\n",
    "                    df[col] = df[col].astype(np.int32)\n",
    "                elif c_min > np.iinfo(np.int64).min and c_max < np.iinfo(np.int64).max:\n",
    "                    df[col] = df[col].astype(np.int64)\n",
    "            else:\n",
    "                if c_min > np.finfo(np.float16).min and c_max < np.finfo(np.float16).max:\n",
    "                    df[col] = df[col].astype(np.float16)\n",
    "                elif c_min > np.finfo(np.float32).min and c_max < np.finfo(np.float32).max:\n",
    "                    df[col] = df[col].astype(np.float32)\n",
    "                else:\n",
    "                    df[col] = df[col].astype(np.float64)\n",
    "\n",
    "    end_mem = df.memory_usage().sum() / 1024**2\n",
    "    print('Memory usage after optimization is: {:.2f} MB'.format(end_mem))\n",
    "    print('Decreased by {:.1f}%'.format(100 * (start_mem - end_mem) / start_mem))\n",
    "\n",
    "    return df"
   ]
  },
  {
   "cell_type": "markdown",
   "metadata": {
    "id": "6z5RFBHS_5se"
   },
   "source": [
    "🧠 Задача: Добавьте в функцию reduce_mem_usage возможность оптимизации категориальных признаков (названия этих колонок передаются в cat_cols в аргументах функции). Про оптимизацию хранения категориальных признаков мы рассказывали в ноутбуке к уроку."
   ]
  },
  {
   "cell_type": "code",
   "execution_count": 2,
   "metadata": {
    "id": "SJ48wmwEtd82"
   },
   "outputs": [],
   "source": [
    "# Добавьте в функцию reduce_mem_usage возможность оптимизации категориальных признаков\n",
    "# (названия этих колонок передаются в cat_cols в аргументах функции). Про оптимизацию\n",
    "# хранения категориальных признаков мы рассказывали в ноутбуке к уроку.\n",
    "\n",
    "import numpy as np\n",
    "import pandas as pd\n",
    "\n",
    "\n",
    "def reduce_mem_usage(df, cat_cols=[]):\n",
    "    \"\"\" iterate through all the columns of a dataframe and modify the data type\n",
    "        to reduce memory usage.\n",
    "    \"\"\"\n",
    "    start_mem = df.memory_usage().sum() / 1024 ** 2\n",
    "    # print('Memory usage of dataframe is {:.2f} MB'.format(start_mem))\n",
    "\n",
    "    for col in df.columns:\n",
    "        col_type = df[col].dtype.name\n",
    "\n",
    "        if col_type not in ['object', 'category', 'datetime64[ns, UTC]']:\n",
    "            c_min = df[col].min()\n",
    "            c_max = df[col].max()\n",
    "            if col_type.startswith('int'):\n",
    "                if c_min > np.iinfo(np.int8).min and c_max < np.iinfo(np.int8).max:\n",
    "                    df[col] = df[col].astype(np.int8)\n",
    "                elif c_min > np.iinfo(np.int16).min and c_max < np.iinfo(np.int16).max:\n",
    "                    df[col] = df[col].astype(np.int16)\n",
    "                elif c_min > np.iinfo(np.int32).min and c_max < np.iinfo(np.int32).max:\n",
    "                    df[col] = df[col].astype(np.int32)\n",
    "                elif c_min > np.iinfo(np.int64).min and c_max < np.iinfo(np.int64).max:\n",
    "                    df[col] = df[col].astype(np.int64)\n",
    "            elif col_type.startswith('float'):\n",
    "                if c_min > np.finfo(np.float16).min and c_max < np.finfo(np.float16).max:\n",
    "                    df[col] = df[col].astype(np.float16)\n",
    "                elif c_min > np.finfo(np.float32).min and c_max < np.finfo(np.float32).max:\n",
    "                    df[col] = df[col].astype(np.float32)\n",
    "                else:\n",
    "                    df[col] = df[col].astype(np.float64)\n",
    "        elif col in cat_cols:\n",
    "            df[col] = df[col].astype('category')\n",
    "\n",
    "    end_mem = df.memory_usage().sum() / 1024 ** 2\n",
    "    # print('Memory usage after optimization is: {:.2f} MB'.format(end_mem))\n",
    "    # print('Decreased by {:.1f}%'.format(100 * (start_mem - end_mem) / start_mem))\n",
    "\n",
    "    return df"
   ]
  },
  {
   "cell_type": "markdown",
   "metadata": {
    "id": "MzSsFM41G7bl"
   },
   "source": [
    "# Задача на 5-ом шаге урока"
   ]
  },
  {
   "cell_type": "markdown",
   "metadata": {
    "id": "GpdzC9J7fy-t"
   },
   "source": [
    "**Генераторы**"
   ]
  },
  {
   "cell_type": "markdown",
   "metadata": {
    "id": "itKHwJfmHLgT"
   },
   "source": [
    "Напишите генератор, который принимает массив натуральных чисел и максимально возможное число в нем, а потом на каждой итерации возвращает OHE следующего элемента в массиве. Возвращаемый массив должен быть размерности (max_class + 1,)."
   ]
  },
  {
   "cell_type": "code",
   "execution_count": 3,
   "metadata": {
    "id": "qzv-UWuh-39m"
   },
   "outputs": [],
   "source": [
    "import numpy as np\n",
    "\n",
    "def ohe_generator(numbers, max_class):\n",
    "    for num in numbers:\n",
    "        row = np.zeros(max_class + 1, dtype=int)\n",
    "        row[num] = 1\n",
    "        yield row"
   ]
  },
  {
   "cell_type": "markdown",
   "metadata": {},
   "source": [
    "# Задача на 6-ом шаге урока"
   ]
  },
  {
   "cell_type": "code",
   "execution_count": 4,
   "metadata": {},
   "outputs": [],
   "source": [
    "import pandas as pd\n",
    "import numpy as np\n",
    "\n",
    "def get_df(i):\n",
    "    # Создаём DataFrame с 1000 строк\n",
    "    data = {\"id\": np.arange(i * 1000, (i + 1) * 1000),\n",
    "            \"value\": np.random.random(1000),  # случайные значения от 0 до 1\n",
    "            \"category\": np.random.choice([\"A\", \"B\", \"C\"], size=1000),  # случайные категории\n",
    "            }\n",
    "    return pd.DataFrame(data)"
   ]
  },
  {
   "cell_type": "code",
   "execution_count": 5,
   "metadata": {},
   "outputs": [
    {
     "name": "stdout",
     "output_type": "stream",
     "text": [
      "CPU times: total: 3.53 s\n",
      "Wall time: 3.53 s\n"
     ]
    }
   ],
   "source": [
    "%%time\n",
    "df = pd.DataFrame()\n",
    "for i in range(1000):\n",
    "    df = pd.concat([df, get_df(i)])"
   ]
  },
  {
   "cell_type": "code",
   "execution_count": 6,
   "metadata": {},
   "outputs": [
    {
     "name": "stdout",
     "output_type": "stream",
     "text": [
      "CPU times: total: 188 ms\n",
      "Wall time: 180 ms\n"
     ]
    }
   ],
   "source": [
    "%%time\n",
    "df = []\n",
    "for i in range(1000):\n",
    "    df.append(get_df(i))\n",
    "df = pd.concat(df)"
   ]
  },
  {
   "cell_type": "code",
   "execution_count": 7,
   "metadata": {},
   "outputs": [
    {
     "name": "stdout",
     "output_type": "stream",
     "text": [
      "CPU times: total: 1.36 s\n",
      "Wall time: 1.35 s\n"
     ]
    }
   ],
   "source": [
    "%%time\n",
    "df = []\n",
    "for i in range(1000):\n",
    "    df += get_df(i).to_dict('records')\n",
    "df = pd.DataFrame(df)"
   ]
  },
  {
   "cell_type": "markdown",
   "metadata": {
    "id": "9Naq02eP-5Te"
   },
   "source": [
    "# Задача на 8-ом шаге урока"
   ]
  },
  {
   "cell_type": "markdown",
   "metadata": {
    "id": "Qw9O72WvEUjJ"
   },
   "source": [
    "**🔎 Метод np.where()**"
   ]
  },
  {
   "cell_type": "markdown",
   "metadata": {
    "id": "5gyzAHx-chPb"
   },
   "source": [
    "Датасет для тестирования"
   ]
  },
  {
   "cell_type": "code",
   "execution_count": 8,
   "metadata": {
    "colab": {
     "base_uri": "https://localhost:8080/",
     "height": 250
    },
    "id": "WNsvU_JpEbnY",
    "outputId": "7905dc92-1199-489c-ff68-0826910f171f"
   },
   "outputs": [
    {
     "data": {
      "text/html": [
       "<div>\n",
       "<style scoped>\n",
       "    .dataframe tbody tr th:only-of-type {\n",
       "        vertical-align: middle;\n",
       "    }\n",
       "\n",
       "    .dataframe tbody tr th {\n",
       "        vertical-align: top;\n",
       "    }\n",
       "\n",
       "    .dataframe thead th {\n",
       "        text-align: right;\n",
       "    }\n",
       "</style>\n",
       "<table border=\"1\" class=\"dataframe\">\n",
       "  <thead>\n",
       "    <tr style=\"text-align: right;\">\n",
       "      <th></th>\n",
       "      <th>car_type</th>\n",
       "      <th>fuel_type</th>\n",
       "      <th>car_rating</th>\n",
       "      <th>year_to_start</th>\n",
       "      <th>riders</th>\n",
       "      <th>car_id</th>\n",
       "      <th>model</th>\n",
       "      <th>target_class</th>\n",
       "      <th>year_to_work</th>\n",
       "      <th>target_reg</th>\n",
       "    </tr>\n",
       "  </thead>\n",
       "  <tbody>\n",
       "    <tr>\n",
       "      <th>633</th>\n",
       "      <td>economy</td>\n",
       "      <td>petrol</td>\n",
       "      <td>4.68</td>\n",
       "      <td>2014</td>\n",
       "      <td>57868</td>\n",
       "      <td>I-2609382N</td>\n",
       "      <td>Kia Rio X-line</td>\n",
       "      <td>engine_ignition</td>\n",
       "      <td>2015</td>\n",
       "      <td>55.906153</td>\n",
       "    </tr>\n",
       "    <tr>\n",
       "      <th>4211</th>\n",
       "      <td>economy</td>\n",
       "      <td>petrol</td>\n",
       "      <td>5.84</td>\n",
       "      <td>2013</td>\n",
       "      <td>46675</td>\n",
       "      <td>C-8802779C</td>\n",
       "      <td>Smart ForTwo</td>\n",
       "      <td>another_bug</td>\n",
       "      <td>2019</td>\n",
       "      <td>57.811777</td>\n",
       "    </tr>\n",
       "    <tr>\n",
       "      <th>4212</th>\n",
       "      <td>economy</td>\n",
       "      <td>petrol</td>\n",
       "      <td>2.72</td>\n",
       "      <td>2015</td>\n",
       "      <td>77676</td>\n",
       "      <td>f11409987C</td>\n",
       "      <td>Smart ForTwo</td>\n",
       "      <td>engine_check</td>\n",
       "      <td>2022</td>\n",
       "      <td>45.533980</td>\n",
       "    </tr>\n",
       "    <tr>\n",
       "      <th>845</th>\n",
       "      <td>economy</td>\n",
       "      <td>petrol</td>\n",
       "      <td>5.52</td>\n",
       "      <td>2012</td>\n",
       "      <td>18037</td>\n",
       "      <td>s-4094631m</td>\n",
       "      <td>VW Polo</td>\n",
       "      <td>break_bug</td>\n",
       "      <td>2016</td>\n",
       "      <td>50.807528</td>\n",
       "    </tr>\n",
       "    <tr>\n",
       "      <th>2615</th>\n",
       "      <td>economy</td>\n",
       "      <td>petrol</td>\n",
       "      <td>3.76</td>\n",
       "      <td>2016</td>\n",
       "      <td>102285</td>\n",
       "      <td>V12462480t</td>\n",
       "      <td>Smart Coupe</td>\n",
       "      <td>engine_check</td>\n",
       "      <td>2021</td>\n",
       "      <td>47.706855</td>\n",
       "    </tr>\n",
       "  </tbody>\n",
       "</table>\n",
       "</div>"
      ],
      "text/plain": [
       "     car_type fuel_type  car_rating  year_to_start  riders      car_id  \\\n",
       "633   economy    petrol        4.68           2014   57868  I-2609382N   \n",
       "4211  economy    petrol        5.84           2013   46675  C-8802779C   \n",
       "4212  economy    petrol        2.72           2015   77676  f11409987C   \n",
       "845   economy    petrol        5.52           2012   18037  s-4094631m   \n",
       "2615  economy    petrol        3.76           2016  102285  V12462480t   \n",
       "\n",
       "               model     target_class  year_to_work  target_reg  \n",
       "633   Kia Rio X-line  engine_ignition          2015   55.906153  \n",
       "4211    Smart ForTwo      another_bug          2019   57.811777  \n",
       "4212    Smart ForTwo     engine_check          2022   45.533980  \n",
       "845          VW Polo        break_bug          2016   50.807528  \n",
       "2615     Smart Coupe     engine_check          2021   47.706855  "
      ]
     },
     "execution_count": 8,
     "metadata": {},
     "output_type": "execute_result"
    }
   ],
   "source": [
    "import pandas as pd\n",
    "path = 'https://raw.githubusercontent.com/a-milenkin/Competitive_Data_Science/main/data/car_info.csv'\n",
    "df_cars = pd.read_csv(path)\n",
    "df_cars.sample(5)"
   ]
  },
  {
   "cell_type": "markdown",
   "metadata": {
    "id": "ctvnFeOlF567"
   },
   "source": [
    "Напишите функцию, которая возвращает car_id, если данная строка датафрейма удовлетворяет условию, иначе -1."
   ]
  },
  {
   "cell_type": "markdown",
   "metadata": {
    "id": "i6bpMBJ5GH2g"
   },
   "source": [
    "Условие: Либо year_to_start < 2015 и тип машины business, либо ее рейтинг строго больше 3, и ее модель - это одна из ['Hyundai Solaris', 'Smart ForFour', 'Renault Kaptur', 'Renault Sandero']."
   ]
  },
  {
   "cell_type": "code",
   "execution_count": 9,
   "metadata": {
    "id": "ZfOlVIz5EbfR"
   },
   "outputs": [],
   "source": [
    "models = {'Hyundai Solaris', 'Smart ForFour', 'Renault Kaptur', 'Renault Sandero'}\n",
    "\n",
    "def get_where(df):\n",
    "    mask1 = (df.year_to_start < 2015) & (df.car_type == 'business')\n",
    "    mask2 = (df.car_rating > 3) & df.model.isin(models)\n",
    "    return np.where(mask1 | mask2, df['car_id'], -1)"
   ]
  },
  {
   "cell_type": "code",
   "execution_count": 10,
   "metadata": {
    "id": "ZfOlVIz5EbfR"
   },
   "outputs": [
    {
     "name": "stdout",
     "output_type": "stream",
     "text": [
      "456 µs ± 3.03 µs per loop (mean ± std. dev. of 7 runs, 1,000 loops each)\n"
     ]
    }
   ],
   "source": [
    "%%timeit\n",
    "z = get_where(df_cars)"
   ]
  },
  {
   "cell_type": "code",
   "execution_count": 11,
   "metadata": {},
   "outputs": [],
   "source": [
    "models = np.array(['Hyundai Solaris', 'Smart ForFour', 'Renault Kaptur', 'Renault Sandero'])\n",
    "\n",
    "def get_where(df):\n",
    "    # Векторизованные условия\n",
    "    mask1 = (df['year_to_start'].values < 2015) & (df['car_type'].values == 'business')\n",
    "    mask2 = (df['car_rating'].values > 3) & np.isin(df['model'].values, models)\n",
    "    # Возвращаем результат через np.where\n",
    "    return np.where(mask1 | mask2, df['car_id'].values, -1)"
   ]
  },
  {
   "cell_type": "code",
   "execution_count": 12,
   "metadata": {},
   "outputs": [
    {
     "name": "stdout",
     "output_type": "stream",
     "text": [
      "240 µs ± 798 ns per loop (mean ± std. dev. of 7 runs, 1,000 loops each)\n"
     ]
    }
   ],
   "source": [
    "%%timeit\n",
    "z = get_where(df_cars)"
   ]
  },
  {
   "cell_type": "markdown",
   "metadata": {
    "id": "tp2kr4xK_Lgu"
   },
   "source": [
    "# Задача на 10-ом шаге урока"
   ]
  },
  {
   "cell_type": "markdown",
   "metadata": {
    "id": "WhrgCYgKezLq"
   },
   "source": [
    "**🍢 Векторизация**"
   ]
  },
  {
   "cell_type": "markdown",
   "metadata": {
    "id": "-W3H0_chdd_M"
   },
   "source": [
    "Дана функция"
   ]
  },
  {
   "cell_type": "code",
   "execution_count": 13,
   "metadata": {
    "id": "82Yty3Q9_G3o"
   },
   "outputs": [],
   "source": [
    "def f(x):\n",
    "    if 'Audi' == x['model']:\n",
    "        if x['car_rating'] > 3:\n",
    "            return 0\n",
    "        else:\n",
    "            if x['fuel_type'] == 'petrol':\n",
    "                return 1\n",
    "            return np.nan\n",
    "    elif x['year_to_start'] in [2015, 2016, 2017] or x['car_rating'] > 4:\n",
    "        return round(x['car_rating'] - 4.5, 3) * 10\n",
    "    else:\n",
    "        return 3"
   ]
  },
  {
   "cell_type": "code",
   "execution_count": 14,
   "metadata": {
    "id": "dsIV7CEPHk0X"
   },
   "outputs": [],
   "source": [
    "import pandas as pd\n",
    "\n",
    "path = 'https://raw.githubusercontent.com/a-milenkin/Competitive_Data_Science/main/data/car_info.csv'\n",
    "df_cars = pd.read_csv(path)"
   ]
  },
  {
   "cell_type": "markdown",
   "metadata": {
    "id": "Tjxg8U9fdwHn"
   },
   "source": [
    "необходимо объявить векторизованную версию этой функции и запишите ее в переменную vectfunc. Для тестирования используется код:"
   ]
  },
  {
   "cell_type": "markdown",
   "metadata": {
    "id": "GHJ5ompefLNQ"
   },
   "source": [
    "Решение"
   ]
  },
  {
   "cell_type": "code",
   "execution_count": 15,
   "metadata": {
    "id": "mVsQqiF8bMx6"
   },
   "outputs": [],
   "source": [
    "import numpy as np\n",
    "\n",
    "def func(car_rating, model, year_to_start, fuel_type):\n",
    "    if model == 'Audi':\n",
    "        if car_rating > 3:\n",
    "            return 0\n",
    "        elif fuel_type == 'petrol':\n",
    "            return 1\n",
    "        return np.nan\n",
    "    elif year_to_start in {2015, 2016, 2017} or car_rating > 4:\n",
    "        return round(car_rating - 4.5, 3) * 10\n",
    "    return 3\n",
    "\n",
    "\n",
    "vectfunc = np.vectorize(func)"
   ]
  },
  {
   "cell_type": "code",
   "execution_count": 16,
   "metadata": {
    "id": "6btIwR7deKSp"
   },
   "outputs": [],
   "source": [
    "preds = vectfunc(df_cars['car_rating'],\n",
    "                 df_cars['model'],\n",
    "                 df_cars['year_to_start'],\n",
    "                 df_cars['fuel_type'])"
   ]
  },
  {
   "cell_type": "markdown",
   "metadata": {
    "id": "XoxhPMZzHlNU"
   },
   "source": [
    "# Задача на 11-ом шаге урока"
   ]
  },
  {
   "cell_type": "markdown",
   "metadata": {
    "id": "7SoeTlige84X"
   },
   "source": [
    "**🚦 Mетод np.select()**"
   ]
  },
  {
   "cell_type": "markdown",
   "metadata": {
    "id": "iL3WPNEZ-V2V"
   },
   "source": [
    "У вас есть датафрейм df_cars"
   ]
  },
  {
   "cell_type": "code",
   "execution_count": 17,
   "metadata": {
    "id": "eXeNz954fxeD"
   },
   "outputs": [],
   "source": [
    "import pandas as pd\n",
    "import numpy as np\n",
    "\n",
    "\n",
    "path = 'https://raw.githubusercontent.com/a-milenkin/Competitive_Data_Science/main/data/car_info.csv'\n",
    "df_cars = pd.read_csv(path)"
   ]
  },
  {
   "cell_type": "markdown",
   "metadata": {
    "id": "lzBG1Slsp5EH"
   },
   "source": [
    "Напишите conditions, choices и default_value, которые нужно будет использовать в np.select(), чтобы посчитать следующую функцию:"
   ]
  },
  {
   "cell_type": "code",
   "execution_count": 18,
   "metadata": {
    "id": "aPAAQYpZHwcE"
   },
   "outputs": [],
   "source": [
    "def f(x):\n",
    "    if 'Audi' == x['model']:\n",
    "        if x['car_rating'] > 3:\n",
    "            return 0\n",
    "        else:\n",
    "            if x['fuel_type'] == 'petrol':\n",
    "                return 1\n",
    "            return np.nan\n",
    "    elif x['year_to_start'] in [2015, 2016, 2017] or x['car_rating'] > 4:\n",
    "        return round(x['car_rating'] - 4.5, 3) * 10\n",
    "    else:\n",
    "        return 3"
   ]
  },
  {
   "cell_type": "markdown",
   "metadata": {
    "id": "835onOT6DBy1"
   },
   "source": [
    "Для проверки будет использоваться следующий код:"
   ]
  },
  {
   "cell_type": "markdown",
   "metadata": {
    "id": "_EoSBuE8c26a"
   },
   "source": [
    "Решение"
   ]
  },
  {
   "cell_type": "code",
   "execution_count": 19,
   "metadata": {
    "id": "i2KMeIugc11y"
   },
   "outputs": [],
   "source": [
    "import numpy as np\n",
    "\n",
    "conditions = [(df_cars['model'] == 'Audi') & (df_cars['car_rating'] < 3),\n",
    "              (df_cars['model'] == 'Audi') & (df_cars['fuel_type'] == 'petrol'),\n",
    "              (df_cars['model'] == 'Audi'),\n",
    "              df_cars['year_to_start'].isin({2015, 2016, 2017}) | (df_cars['car_rating'] > 4)\n",
    "              ]\n",
    "choices = [0, 1, np.nan, round(df_cars.car_rating - 4.5, 3) * 10]\n",
    "default_value = 3"
   ]
  },
  {
   "cell_type": "code",
   "execution_count": 20,
   "metadata": {
    "id": "2j3w6qDZHwOv"
   },
   "outputs": [],
   "source": [
    "preds = np.select(conditions, choices, default=default_value)"
   ]
  },
  {
   "cell_type": "code",
   "execution_count": 21,
   "metadata": {},
   "outputs": [
    {
     "name": "stdout",
     "output_type": "stream",
     "text": [
      "True\n"
     ]
    }
   ],
   "source": [
    "# V2\n",
    "conditions = [df_cars.model.__eq__('Audi') & df_cars.car_rating.__lt__(3),\n",
    "              df_cars.model.__eq__('Audi') & df_cars.fuel_type.__eq__('petrol'),\n",
    "              df_cars.model.__eq__('Audi'),\n",
    "              df_cars.year_to_start.isin({2015, 2016, 2017}) | df_cars.car_rating.__gt__(4)\n",
    "              ]\n",
    "choices = [0, 1, np.nan, round(df_cars.car_rating - 4.5, 3) * 10]\n",
    "default_value = 3\n",
    "\n",
    "preds2 = np.select(conditions, choices, default=default_value)\n",
    "\n",
    "print(np.all(preds == preds2))"
   ]
  },
  {
   "cell_type": "markdown",
   "metadata": {
    "id": "XoxhPMZzHlNU"
   },
   "source": [
    "# Задача на 13-ом шаге урока"
   ]
  },
  {
   "cell_type": "code",
   "execution_count": 22,
   "metadata": {},
   "outputs": [],
   "source": [
    "import numpy as np\n",
    "import pandas as pd\n",
    "from sklearn import preprocessing\n",
    "\n",
    "path = 'https://raw.githubusercontent.com/a-milenkin/Competitive_Data_Science/main/data/car_info.csv'\n",
    "df_cars = pd.read_csv(path)\n",
    "\n",
    "lbl = preprocessing.LabelEncoder()\n",
    "df_cars['int_model'] = lbl.fit_transform((df_cars['model'] + df_cars['fuel_type']).astype(str))"
   ]
  },
  {
   "cell_type": "markdown",
   "metadata": {},
   "source": [
    "У вас есть датафрейм df_cars, в котором есть два столбца: int_model и target_reg. \n",
    "\n",
    "Задача: Написать функцию, которая для каждой группы (по int_model) будет считать среднее, сумму, минимум и кол-во элементов в группе. \n",
    "\n",
    "Для подсчета данных значений не используйте pd.groupby(), а используйте векторизацию через numpy."
   ]
  },
  {
   "cell_type": "markdown",
   "metadata": {
    "id": "_EoSBuE8c26a"
   },
   "source": [
    "Решение"
   ]
  },
  {
   "cell_type": "code",
   "execution_count": 23,
   "metadata": {},
   "outputs": [],
   "source": [
    "def fast_groupby(df):\n",
    "    indices = df['int_model'].values\n",
    "    target_reg = df['target_reg'].values\n",
    "    count_values = np.bincount(indices)\n",
    "    sum_values = np.bincount(indices, weights=target_reg)\n",
    "    min_values = np.minimum.reduceat(target_reg[np.argsort(indices)],\n",
    "                                     np.concatenate(([0],\n",
    "                                                     np.cumsum(np.bincount(indices))))[:-1])\n",
    "    mean_values = sum_values / count_values\n",
    "    res = pd.DataFrame({'int_model': np.arange(indices.max() + 1),\n",
    "                        'min': min_values,\n",
    "                        'sum': sum_values,\n",
    "                        'count': count_values,\n",
    "                        'mean': mean_values})\n",
    "    return res"
   ]
  },
  {
   "cell_type": "code",
   "execution_count": 24,
   "metadata": {},
   "outputs": [
    {
     "name": "stdout",
     "output_type": "stream",
     "text": [
      "575 µs ± 2.7 µs per loop (mean ± std. dev. of 7 runs, 1,000 loops each)\n"
     ]
    }
   ],
   "source": [
    "%%timeit\n",
    "df_cars.groupby('int_model', as_index=False)['target_reg'].agg(min='min',\n",
    "                                                               sum='sum',\n",
    "                                                               count='count',\n",
    "                                                               mean='mean',\n",
    "                                                              )"
   ]
  },
  {
   "cell_type": "code",
   "execution_count": 25,
   "metadata": {},
   "outputs": [
    {
     "name": "stdout",
     "output_type": "stream",
     "text": [
      "207 µs ± 1.05 µs per loop (mean ± std. dev. of 7 runs, 1,000 loops each)\n"
     ]
    }
   ],
   "source": [
    "%%timeit\n",
    "fast_groupby(df_cars)"
   ]
  },
  {
   "cell_type": "code",
   "execution_count": 26,
   "metadata": {},
   "outputs": [],
   "source": [
    "import polars as pl\n",
    "\n",
    "# Преобразование в Polars DataFrame\n",
    "df_cars_pl = pl.DataFrame(df_cars)"
   ]
  },
  {
   "cell_type": "code",
   "execution_count": 27,
   "metadata": {},
   "outputs": [
    {
     "name": "stdout",
     "output_type": "stream",
     "text": [
      "151 µs ± 1.27 µs per loop (mean ± std. dev. of 7 runs, 10,000 loops each)\n"
     ]
    }
   ],
   "source": [
    "%%timeit\n",
    "df_cars_pl.group_by('int_model').agg([\n",
    "    pl.col('target_reg').min().alias('min'),\n",
    "    pl.col('target_reg').sum().alias('sum'),\n",
    "    pl.col('target_reg').count().alias('count'),\n",
    "    pl.col('target_reg').mean().alias('mean')\n",
    "])"
   ]
  },
  {
   "cell_type": "code",
   "execution_count": 28,
   "metadata": {},
   "outputs": [
    {
     "name": "stdout",
     "output_type": "stream",
     "text": [
      "int_model    True\n",
      "min          True\n",
      "sum          True\n",
      "count        True\n",
      "mean         True\n",
      "dtype: bool\n"
     ]
    }
   ],
   "source": [
    "grp = df_cars.groupby('int_model', as_index=False)['target_reg'].agg(min='min',\n",
    "                                                                     sum='sum',\n",
    "                                                                     count='count',\n",
    "                                                                     mean='mean',\n",
    "                                                                     )\n",
    "grp2 = fast_groupby(df_cars)\n",
    "\n",
    "print((grp.round(10) == grp2.round(10)).all())"
   ]
  },
  {
   "cell_type": "code",
   "execution_count": 29,
   "metadata": {},
   "outputs": [
    {
     "name": "stdout",
     "output_type": "stream",
     "text": [
      "int_model    True\n",
      "min          True\n",
      "sum          True\n",
      "count        True\n",
      "mean         True\n",
      "dtype: bool\n"
     ]
    }
   ],
   "source": [
    "grp3 = df_cars_pl.group_by('int_model').agg([\n",
    "    pl.col('target_reg').min().alias('min'),\n",
    "    pl.col('target_reg').sum().alias('sum'),\n",
    "    pl.col('target_reg').count().alias('count'),\n",
    "    pl.col('target_reg').mean().alias('mean')\n",
    "])\n",
    "grp3 = grp3.to_pandas().sort_values('int_model').reset_index(drop=True)\n",
    "print((grp.round(10) == grp3.round(10)).all())"
   ]
  },
  {
   "cell_type": "code",
   "execution_count": 30,
   "metadata": {},
   "outputs": [],
   "source": [
    "# V2\n",
    "# Вместо np.argsort использовал np.unique для нахождения уникальных значений в столбце\n",
    "# int_model, которые представляют собой различные группы, по которым будут проводиться\n",
    "# агрегационные операции (сумма, среднее значение, минимум, и количество элементов).\n",
    "# В этом контексте np.unique выполняет функцию аналогичную .groupby() в Pandas, но только для\n",
    "# того чтобы определить, какие уникальные группы (int_model в данном случае) существуют в\n",
    "# данных. Это нужно для последующей векторизации операций на этих группах. Опция\n",
    "# return_index=True возвращает индексы первого вхождения каждого уникального значения в\n",
    "# каждой группе.\n",
    "# В функции np.bincount использовал параметр minlength, который определяет минимальную длину\n",
    "# выходного массива. Этот параметр используется для того, чтобы удостовериться, что выходной\n",
    "# массив имеет определенную длину, даже если действительные значения индексов (или их\n",
    "# количество) меньше этой длины. Значения для индексов, которые не появляются во входных\n",
    "# данных, будут заполнены нулями.\n",
    "# В нашем случае, minlength=len(unique_models) гарантирует, что массивы count_values и\n",
    "# sum_values имеют одинаковую длину и соответствуют числу уникальных моделей (unique_models).\n",
    "# Это упрощает последующие вычисления и помогает избежать ошибок, связанных с несоответствием\n",
    "# размеров массивов.\n",
    "# Этот параметр особенно полезен, когда в данных есть \"пропуски\" в уникальных значениях.\n",
    "# Например, если int_models содержит [0, 1, 2, 4, 5], но не содержит 3, np.bincount с\n",
    "# параметром minlength все равно вернет массив с нулем для индекса 3, что соответствует\n",
    "# отсутствующим значениям.\n",
    "# Для расчета минимума, аналогично автору, использовал функцию np.minimum.reduceat, которая\n",
    "# выполняет уменьшающую операцию с использованием функции np.minimum на разделах массива\n",
    "# targets на основе индексов в массиве indices.\n",
    "# targets: это массив значений, которые нужно уменьшить, значения из столбца target_reg в\n",
    "# отсортированном порядке;\n",
    "# indices: это массив индексов, указывающих начало каждой новой группы в массиве targets. .\n",
    "# Теперь, что делает np.minimum.reduceat:\n",
    "# Он берет подмассив из targets, начиная с первого индекса из indices и до следующего индекса\n",
    "# в indices (не включая его), и находит минимальное значение в этом подмассиве.\n",
    "# Затем повторяет эту операцию для всех подмассивов, определенных индексами в indices.\n",
    "# Возвращает массив минимальных значений для каждой группы.\n",
    "# Простой пример кода:\n",
    "# import numpy as np\n",
    "# targets = np.array([5, 2, 7, 1, 3, 8, 9, 10])\n",
    "# indices = np.array([0, 3, 5])\n",
    "# result = np.minimum.reduceat(targets, indices)\n",
    "# print(result)  # Вывод: [2 1 8]\n",
    "# Индексы в массиве indices указывают на начальные позиции подмассивов в массиве targets,\n",
    "# которые нужно рассмотреть. В данном примере:\n",
    "# indices = np.array([0, 3, 5])\n",
    "# а так эти индексы разбивают targets на подмассивы:\n",
    "# первая группа начинается с индекса 0 и идет до индекса 3 (не включительно): [5, 2, 7]\n",
    "# вторая группа начинается с индекса 3 и идет до индекса 5 (не включительно): [1, 3]\n",
    "# третья группа начинается с индекса 5 и идет до конца массива (поскольку нет последующего\n",
    "# индекса после 5 в массиве indices): [8, 9, 10]\n",
    "# Именно так работает метод np.minimum.reduceat. Он использует массив indices для разделения\n",
    "# targets на подмассивы и вычисления минимума для каждого подмассива.\n",
    "# Авторская реализация вычисляет минимальные значения для каждой группы, используя также для\n",
    "# начала сортировку и кумулятивные суммы, которые являются индексами, указывающими на начало\n",
    "# каждой группы:\n",
    "# сначала сортируются значения target_reg в соответствии с отсортированными индексами\n",
    "# int_model\n",
    "# sorted_ind = df_cars['target_reg'].values[np.argsort(indices)]\n",
    "# далее, автор вычисляет позиции, на которых начинаются новые группы\n",
    "# concated = np.concatenate(([0], np.cumsum(np.bincount(indices))))[:-1]\n",
    "# минимальные значения для каждой группы вычисляются с помощью\n",
    "# np.minimum.reduceat(sorted_ind, concated) применяющий операцию \"минимум\" к подмассивам\n",
    "# массива sorted_ind, разделенным согласно индексам в массиве concated\n",
    "# 'min': np.minimum.reduceat(sorted_ind, concated),\n",
    "# Таким образом, np.minimum.reduceat эффективно заменяет цикл поиска минимального значения\n",
    "# для каждой группы, что является частью операции groupby в pandas.\n",
    "\n",
    "def fast_groupby(df_cars):\n",
    "    # Сортируем DataFrame по int_model для последующей векторизации\n",
    "    df_sorted = df_cars.sort_values(by='int_model')\n",
    "    \n",
    "    # Извлекаем значения из отсортированного DataFrame\n",
    "    int_models = df_sorted['int_model'].values\n",
    "    targets = df_sorted['target_reg'].values\n",
    "\n",
    "    # Находим индексы, где начинаются новые группы\n",
    "    unique_models, indices = np.unique(int_models, return_index=True)\n",
    "\n",
    "    # Подсчет количества, суммы и минимума для каждой группы\n",
    "    count_values = np.bincount(int_models, minlength=len(unique_models))\n",
    "    sum_values = np.bincount(int_models, weights=targets, minlength=len(unique_models))\n",
    "    min_values = np.minimum.reduceat(targets, indices)\n",
    "\n",
    "    # Подсчет среднего значения для каждой группы\n",
    "    mean_values = sum_values / count_values\n",
    "\n",
    "    # Создание результирующего DataFrame\n",
    "    res = pd.DataFrame({'int_model': unique_models,\n",
    "                        'min': min_values,\n",
    "                        'sum': sum_values,\n",
    "                        'count': count_values,\n",
    "                        'mean': mean_values\n",
    "                        })\n",
    "\n",
    "    return res"
   ]
  },
  {
   "cell_type": "code",
   "execution_count": 31,
   "metadata": {},
   "outputs": [
    {
     "name": "stdout",
     "output_type": "stream",
     "text": [
      "453 µs ± 3.61 µs per loop (mean ± std. dev. of 7 runs, 1,000 loops each)\n"
     ]
    }
   ],
   "source": [
    "%%timeit\n",
    "fast_groupby(df_cars)"
   ]
  },
  {
   "cell_type": "code",
   "execution_count": 32,
   "metadata": {},
   "outputs": [
    {
     "name": "stdout",
     "output_type": "stream",
     "text": [
      "int_model    True\n",
      "min          True\n",
      "sum          True\n",
      "count        True\n",
      "mean         True\n",
      "dtype: bool\n"
     ]
    }
   ],
   "source": [
    "grp4 = fast_groupby(df_cars)\n",
    "\n",
    "print((grp.round(10) == grp4.round(10)).all())"
   ]
  },
  {
   "cell_type": "code",
   "execution_count": null,
   "metadata": {},
   "outputs": [],
   "source": []
  }
 ],
 "metadata": {
  "colab": {
   "collapsed_sections": [
    "tQFfZ4nx_fMo",
    "MzSsFM41G7bl",
    "9Naq02eP-5Te",
    "tp2kr4xK_Lgu",
    "XoxhPMZzHlNU"
   ],
   "provenance": []
  },
  "kernelspec": {
   "display_name": "Python 3 (ipykernel)",
   "language": "python",
   "name": "python3"
  },
  "language_info": {
   "codemirror_mode": {
    "name": "ipython",
    "version": 3
   },
   "file_extension": ".py",
   "mimetype": "text/x-python",
   "name": "python",
   "nbconvert_exporter": "python",
   "pygments_lexer": "ipython3",
   "version": "3.11.5"
  }
 },
 "nbformat": 4,
 "nbformat_minor": 1
}
