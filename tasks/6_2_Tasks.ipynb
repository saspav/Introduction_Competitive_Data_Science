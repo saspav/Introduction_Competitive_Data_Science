{
 "cells": [
  {
   "cell_type": "markdown",
   "metadata": {
    "id": "_g-feWYkdzVK"
   },
   "source": [
    "# Задача на 3-ом шаге урока"
   ]
  },
  {
   "cell_type": "markdown",
   "metadata": {
    "id": "Cch6MCo7fP7q"
   },
   "source": [
    "**Застекай их**"
   ]
  },
  {
   "cell_type": "markdown",
   "metadata": {
    "id": "FyiHNYOXmjWJ"
   },
   "source": [
    "Объявите модель StackingClassifier(), которая в качестве базовых моделей будет принимать список estimators, а в качестве метамодели использует LogisticRegression()."
   ]
  },
  {
   "cell_type": "code",
   "execution_count": 1,
   "metadata": {
    "id": "Ay6An0NddwOc"
   },
   "outputs": [],
   "source": [
    "from sklearn.linear_model import LogisticRegression\n",
    "from sklearn.svm import SVC\n",
    "from sklearn.ensemble import StackingClassifier\n",
    "\n",
    "estimators = [(\"logreg\", LogisticRegression()), (\"svc\", SVC())]\n",
    "meta_model = StackingClassifier(estimators, final_estimator=LogisticRegression())"
   ]
  },
  {
   "cell_type": "markdown",
   "metadata": {
    "id": "tQFfZ4nx_fMo"
   },
   "source": [
    "# Задача на 5-ом шаге урока"
   ]
  },
  {
   "cell_type": "markdown",
   "metadata": {
    "id": "mAxLZmxXfamF"
   },
   "source": [
    "**Разгоняем метамодель**"
   ]
  },
  {
   "cell_type": "markdown",
   "metadata": {
    "id": "UJRZxUvSnGAa"
   },
   "source": [
    "Ссылка на данные для тестирования"
   ]
  },
  {
   "cell_type": "code",
   "execution_count": 2,
   "metadata": {
    "colab": {
     "base_uri": "https://localhost:8080/",
     "height": 206
    },
    "id": "Mhwbu91nthzl",
    "outputId": "b244ff34-9035-4eb6-ed82-02aab7b0060a"
   },
   "outputs": [
    {
     "data": {
      "text/html": [
       "<div>\n",
       "<style scoped>\n",
       "    .dataframe tbody tr th:only-of-type {\n",
       "        vertical-align: middle;\n",
       "    }\n",
       "\n",
       "    .dataframe tbody tr th {\n",
       "        vertical-align: top;\n",
       "    }\n",
       "\n",
       "    .dataframe thead th {\n",
       "        text-align: right;\n",
       "    }\n",
       "</style>\n",
       "<table border=\"1\" class=\"dataframe\">\n",
       "  <thead>\n",
       "    <tr style=\"text-align: right;\">\n",
       "      <th></th>\n",
       "      <th>index</th>\n",
       "      <th>target</th>\n",
       "      <th>model</th>\n",
       "    </tr>\n",
       "  </thead>\n",
       "  <tbody>\n",
       "    <tr>\n",
       "      <th>0</th>\n",
       "      <td>0</td>\n",
       "      <td>65.927922</td>\n",
       "      <td>catboost</td>\n",
       "    </tr>\n",
       "    <tr>\n",
       "      <th>1</th>\n",
       "      <td>1</td>\n",
       "      <td>44.248116</td>\n",
       "      <td>catboost</td>\n",
       "    </tr>\n",
       "    <tr>\n",
       "      <th>2</th>\n",
       "      <td>2</td>\n",
       "      <td>43.807966</td>\n",
       "      <td>catboost</td>\n",
       "    </tr>\n",
       "    <tr>\n",
       "      <th>3</th>\n",
       "      <td>3</td>\n",
       "      <td>45.661121</td>\n",
       "      <td>catboost</td>\n",
       "    </tr>\n",
       "    <tr>\n",
       "      <th>4</th>\n",
       "      <td>4</td>\n",
       "      <td>43.653036</td>\n",
       "      <td>catboost</td>\n",
       "    </tr>\n",
       "  </tbody>\n",
       "</table>\n",
       "</div>"
      ],
      "text/plain": [
       "   index     target     model\n",
       "0      0  65.927922  catboost\n",
       "1      1  44.248116  catboost\n",
       "2      2  43.807966  catboost\n",
       "3      3  45.661121  catboost\n",
       "4      4  43.653036  catboost"
      ]
     },
     "execution_count": 2,
     "metadata": {},
     "output_type": "execute_result"
    }
   ],
   "source": [
    "import numpy as np\n",
    "import pandas as pd\n",
    "from itertools import product\n",
    "\n",
    "df = pd.read_csv('https://stepik.org/media/attachments/lesson/825511/meta_feautres_data.csv')\n",
    "\n",
    "df.head()"
   ]
  },
  {
   "cell_type": "code",
   "execution_count": 3,
   "metadata": {
    "id": "ZP0PMcbsffYP"
   },
   "outputs": [],
   "source": [
    "pvt = df.pivot_table(index='index', columns='model', values='target')\n",
    "pvt_columns = pvt.columns\n",
    "\n",
    "for (oper, func), pair in product((('dif', pd.Series.sub), ('div', pd.Series.divide)),\n",
    "                                  product(pvt_columns, repeat=2)):\n",
    "    pvt[f'_{oper}_'.join(pair)] = func(*[pvt[col] for col in pair])\n",
    "\n",
    "pvt.rename(columns={col: f'target_{col}' for col in pvt_columns}, inplace=True)\n",
    "pvt.to_csv('submit_6_2_6_V2.csv')\n"
   ]
  },
  {
   "cell_type": "markdown",
   "metadata": {
    "id": "MzSsFM41G7bl"
   },
   "source": [
    "# Задача на 6-ом и 7-ом шаге урока"
   ]
  },
  {
   "cell_type": "markdown",
   "metadata": {
    "id": "GpdzC9J7fy-t"
   },
   "source": [
    "**Пишем свой стекер и обучаем его**"
   ]
  },
  {
   "cell_type": "markdown",
   "metadata": {
    "id": "jBDRsANYt30s"
   },
   "source": [
    "На 6-ом шаге урока пишем класс Blender.\n",
    "На 7-ом шаге урока воспользуйся классом Blender, который написал на предыдущем задании, и обучи свой ансамбль."
   ]
  },
  {
   "cell_type": "markdown",
   "metadata": {
    "id": "tpRUSmVH5pp8"
   },
   "source": [
    "Для тестирования на данных можно взять датасет"
   ]
  },
  {
   "cell_type": "code",
   "execution_count": 4,
   "metadata": {
    "id": "7wTFxAxfighS"
   },
   "outputs": [],
   "source": [
    "from sklearn import datasets\n",
    "from sklearn.model_selection import train_test_split, KFold\n",
    "\n",
    "X, y = datasets.load_diabetes(return_X_y=True)\n",
    "X_train, X_holdout, y_train, y_holdout = train_test_split(X, y, random_state=42, shuffle=True)"
   ]
  },
  {
   "cell_type": "code",
   "execution_count": null,
   "metadata": {
    "id": "8qZVIE2XwF4u"
   },
   "outputs": [],
   "source": []
  },
  {
   "cell_type": "markdown",
   "metadata": {
    "id": "dGJ36Gei5pcK"
   },
   "source": [
    "Решение шаг 6"
   ]
  },
  {
   "cell_type": "code",
   "execution_count": 5,
   "metadata": {
    "id": "zaobpPF_-4Ls"
   },
   "outputs": [],
   "source": [
    "class Blender:\n",
    "    def __init__(self, base_models, meta_model):\n",
    "        \"\"\"\n",
    "        base_models - список базовых моделей, которые нужно обучать на изначальных данных\n",
    "        meta_model - мета модель, которая обучается на предсказаниях базовых моделей\n",
    "        Считайте, что модель, которая передается имеет поля .fit(X_train, y_train) и .predict(X_test)\n",
    "        .predict(X_test) возвращает предсказания размерности (n_samples,)\n",
    "        \"\"\"\n",
    "        self.base_models = base_models\n",
    "        self.meta_model = meta_model\n",
    "\n",
    "    def stack_predicts(self, X):\n",
    "        return np.hstack([model.predict(X).reshape(-1, 1) for model in self.base_models])\n",
    "\n",
    "    def fit(self, X_train, y_train, X_hold, y_hold):\n",
    "        [model.fit(X_train, y_train) for model in self.base_models]\n",
    "        self.meta_model.fit(self.stack_predicts(X_hold), y_hold)\n",
    "\n",
    "    def predict(self, X_test):\n",
    "        return self.meta_model.predict(self.stack_predicts(X_test))"
   ]
  },
  {
   "cell_type": "markdown",
   "metadata": {
    "id": "KVDDFI4IubtE"
   },
   "source": [
    "Решение шаг 7"
   ]
  },
  {
   "cell_type": "code",
   "execution_count": 6,
   "metadata": {
    "id": "hAD-RH4JmtHJ"
   },
   "outputs": [],
   "source": [
    "from sklearn.linear_model import LinearRegression, LassoCV\n",
    "from sklearn.svm import SVR\n",
    "\n",
    "# Теперь обучи свой ансамбль и положи предсказания на X_holdout в переменную preds\n",
    "X_train, X_holdout, y_train, y_holdout = train_test_split(X, y, random_state=42, shuffle=True)\n",
    "\n",
    "base_models = [LinearRegression(), LassoCV(), SVR()]\n",
    "meta_model = Blender(base_models, LinearRegression())\n",
    "meta_model.fit(X_train, y_train, X_holdout, y_holdout)\n",
    "preds = meta_model.predict(X_holdout)"
   ]
  },
  {
   "cell_type": "markdown",
   "metadata": {
    "id": "tp2kr4xK_Lgu"
   },
   "source": [
    "# Задача на 10-ом шаге урока"
   ]
  },
  {
   "cell_type": "markdown",
   "metadata": {
    "id": "WhrgCYgKezLq"
   },
   "source": [
    "**Пишем CV**"
   ]
  },
  {
   "cell_type": "markdown",
   "metadata": {
    "id": "R5CdnyXQyXj7"
   },
   "source": [
    "Решение"
   ]
  },
  {
   "cell_type": "code",
   "execution_count": 7,
   "metadata": {
    "id": "Ilf29skJ_G8E"
   },
   "outputs": [],
   "source": [
    "def GetPreds(model, X, y, n_fold=5):\n",
    "    \"\"\"\n",
    "    :param model: имеет методы .fit(X, y) и .predict(X)\n",
    "    :param X: pd.DataFrame\n",
    "    :param y: np.array\n",
    "    :param n_fold: количество фолдов\n",
    "    :return: np.array\n",
    "    \"\"\"\n",
    "    folds = KFold(n_splits=n_fold)\n",
    "    preds = np.zeros(X.shape[0])\n",
    "\n",
    "    for train_idx, valid_idx in folds.split(X, y):\n",
    "        X_train, X_valid = X.iloc[train_idx], X.iloc[valid_idx]\n",
    "        y_train, y_valid = y[train_idx], y[valid_idx]\n",
    "\n",
    "        model.fit(X_train, y_train)\n",
    "        preds[valid_idx] = model.predict(X_valid).flatten()\n",
    "\n",
    "    return preds.reshape(-1, 1)"
   ]
  },
  {
   "cell_type": "markdown",
   "metadata": {
    "id": "yoOagYj01tAb"
   },
   "source": [
    "Для тестирования функции можно использовать следующий код:"
   ]
  },
  {
   "cell_type": "code",
   "execution_count": 8,
   "metadata": {
    "id": "uFDd4LJ1-8he"
   },
   "outputs": [],
   "source": [
    "from sklearn import datasets\n",
    "from sklearn.linear_model import LinearRegression, Lasso\n",
    "from sklearn.svm import SVR\n",
    "\n",
    "X, y = datasets.load_diabetes(return_X_y=True)\n",
    "X = pd.DataFrame(X)\n",
    "\n",
    "base_models = [LinearRegression(), Lasso(), SVR()]\n",
    "for model in base_models:\n",
    "    GetPreds(model, X, y)"
   ]
  },
  {
   "cell_type": "markdown",
   "metadata": {
    "id": "XoxhPMZzHlNU"
   },
   "source": [
    "# Задача на 11-ом шаге урока"
   ]
  },
  {
   "cell_type": "markdown",
   "metadata": {
    "id": "7SoeTlige84X"
   },
   "source": [
    "**Добавляем X_test**"
   ]
  },
  {
   "cell_type": "markdown",
   "metadata": {
    "id": "PJosWN074bZa"
   },
   "source": [
    "Модифицируйте функцию из предыдущей задачи, чтобы она, помимо предсказаний на весь X, еще возвращала предсказания на X_test. Для того чтобы получить предсказания на X_test, обучите данную модель сразу на всей выборке."
   ]
  },
  {
   "cell_type": "markdown",
   "metadata": {
    "id": "SIB1wYbF22DM"
   },
   "source": [
    "Решение"
   ]
  },
  {
   "cell_type": "markdown",
   "metadata": {
    "id": "G5bFHN3h4xEt"
   },
   "source": [
    "Для тестирования функции можно использовать следующий код:"
   ]
  },
  {
   "cell_type": "code",
   "execution_count": 9,
   "metadata": {
    "id": "aPAAQYpZHwcE"
   },
   "outputs": [],
   "source": [
    "def GetPreds(model, X, y, X_test, n_fold=5):\n",
    "    \"\"\"\n",
    "    :param model: имеет методы .fit(X, y) и .predict(X)\n",
    "    :param X: pd.DataFrame\n",
    "    :param y: np.array\n",
    "    :param X_test:  pd.DataFrame, для которого нужно сделать предсказания\n",
    "    :param n_fold: количество фолдов\n",
    "    :return: np.array, np.array\n",
    "    \"\"\"\n",
    "    folds = KFold(n_splits=n_fold)\n",
    "    preds = np.zeros(X.shape[0])\n",
    "\n",
    "    for train_idx, valid_idx in folds.split(X, y):\n",
    "        X_train, X_valid = X.iloc[train_idx], X.iloc[valid_idx]\n",
    "        y_train, y_valid = y[train_idx], y[valid_idx]\n",
    "\n",
    "        model.fit(X_train, y_train)\n",
    "        preds[valid_idx] = model.predict(X_valid).flatten()\n",
    "\n",
    "    model.fit(X, y)\n",
    "    test_preds = model.predict(X_test)\n",
    "\n",
    "    return preds.reshape(-1, 1), test_preds.reshape(-1, 1)"
   ]
  },
  {
   "cell_type": "code",
   "execution_count": 10,
   "metadata": {
    "id": "E-QPDeL522g-"
   },
   "outputs": [],
   "source": [
    "from sklearn import datasets\n",
    "from sklearn.linear_model import LinearRegression, Lasso\n",
    "from sklearn.svm import SVR\n",
    "\n",
    "X, y = datasets.load_diabetes(return_X_y=True)\n",
    "X = pd.DataFrame(X)\n",
    "X_train, X_test, y_train, y_test = train_test_split(X, y, random_state=42, shuffle=True)\n",
    "\n",
    "base_models = [LinearRegression(), Lasso(), SVR()]\n",
    "for model in base_models:\n",
    "    GetPreds(model, X, y, X_test)"
   ]
  }
 ],
 "metadata": {
  "colab": {
   "collapsed_sections": [
    "_g-feWYkdzVK",
    "tQFfZ4nx_fMo",
    "MzSsFM41G7bl",
    "tp2kr4xK_Lgu",
    "XoxhPMZzHlNU"
   ],
   "provenance": []
  },
  "kernelspec": {
   "display_name": "Python 3 (ipykernel)",
   "language": "python",
   "name": "python3"
  },
  "language_info": {
   "codemirror_mode": {
    "name": "ipython",
    "version": 3
   },
   "file_extension": ".py",
   "mimetype": "text/x-python",
   "name": "python",
   "nbconvert_exporter": "python",
   "pygments_lexer": "ipython3",
   "version": "3.11.5"
  }
 },
 "nbformat": 4,
 "nbformat_minor": 1
}
