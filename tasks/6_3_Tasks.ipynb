{
 "cells": [
  {
   "cell_type": "markdown",
   "metadata": {
    "id": "tQFfZ4nx_fMo"
   },
   "source": [
    "# Задача на 6-ом шаге урока"
   ]
  },
  {
   "cell_type": "markdown",
   "metadata": {
    "id": "Q2_wV79Pnea_"
   },
   "source": [
    "**🪢 Пишем categorical_transformer. 🤖**"
   ]
  },
  {
   "cell_type": "markdown",
   "metadata": {
    "id": "Y7cjpay5wGHo"
   },
   "source": [
    "Задача:\n",
    "\n",
    "*   При помощи sklearn.Pipelines напишите свой categorical_transformer, который принимает на вход pd.DataFrame\n",
    "\n",
    "*   Состоящий только из категориальных признаков\n",
    "\n",
    "*   Заполняет пропуски строкой 'Unknown', а потом делает one hot encoding.\n",
    "\n",
    "\n",
    "\n",
    "\n"
   ]
  },
  {
   "cell_type": "markdown",
   "metadata": {
    "id": "fnGsaI7FsWxX"
   },
   "source": [
    "Примечание: Не нужно писать это руками, воспользуйтесь трансформерами из sklearn.impute и sklearn.preprocessing."
   ]
  },
  {
   "cell_type": "markdown",
   "metadata": {
    "id": "93HFzxXZUs4U"
   },
   "source": [
    "*Для отладки решения можно использовать следующий датасет:*"
   ]
  },
  {
   "cell_type": "code",
   "execution_count": 1,
   "metadata": {
    "id": "H53zCfFPUol9"
   },
   "outputs": [],
   "source": [
    "import pandas as pd\n",
    "import warnings\n",
    "\n",
    "warnings.filterwarnings(\"ignore\")\n",
    "\n",
    "data_root = \"https://raw.githubusercontent.com/a-milenkin/Competitive_Data_Science/main/data/\"\n",
    "data = pd.read_csv(data_root + 'quickstart_train.csv')\n",
    "\n",
    "cols2drop = ['car_id', 'target_reg', 'target_class']\n",
    "categorical_features = ['model', 'car_type', 'fuel_type']\n",
    "numerical_features = [c for c in data.columns\n",
    "                      if c not in categorical_features and c not in cols2drop]"
   ]
  },
  {
   "cell_type": "markdown",
   "metadata": {
    "id": "cvTvKOGdVHDr"
   },
   "source": [
    "Решение:"
   ]
  },
  {
   "cell_type": "code",
   "execution_count": 2,
   "metadata": {
    "id": "Mhwbu91nthzl"
   },
   "outputs": [],
   "source": [
    "from sklearn.impute import SimpleImputer\n",
    "from sklearn.preprocessing import OneHotEncoder\n",
    "from sklearn.pipeline import Pipeline\n",
    "\n",
    "\n",
    "# Создаем pipeline для обработки категориальных признаков\n",
    "categorical_transformer = Pipeline(steps=[\n",
    "    (\"imputer\", SimpleImputer(strategy=\"constant\", fill_value=\"Unknown\")),\n",
    "    (\"onehot\", OneHotEncoder(handle_unknown=\"ignore\"))\n",
    "])\n",
    "data_pred = categorical_transformer.fit_transform(data[categorical_features])"
   ]
  },
  {
   "cell_type": "markdown",
   "metadata": {
    "id": "MzSsFM41G7bl"
   },
   "source": [
    "# Задача на 7-ом шаге урока"
   ]
  },
  {
   "cell_type": "markdown",
   "metadata": {
    "id": "GpdzC9J7fy-t"
   },
   "source": [
    "🧵 Пишем numerical_transformer 🤖"
   ]
  },
  {
   "cell_type": "markdown",
   "metadata": {
    "id": "Sx-HFxTVLTYl"
   },
   "source": [
    "Задача:\n",
    "\n",
    "* Напишите свой numerical_transformer, который принимает на вход pd.DataFrame, состоящий только из численных признаков.\n",
    "\n",
    "* Он должен заполнить пропуски медианой, потом нормализовать данные с помощью MinMaxScaler\n",
    "\n",
    "* отобрать топ-5 признаков с наибольшим\n",
    "значением функции [ANOVA F-value](https://scikit-learn.org/stable/modules/generated/sklearn.feature_selection.f_classif.html).\n",
    "\n"
   ]
  },
  {
   "cell_type": "markdown",
   "metadata": {
    "id": "_11g_08bVT3Z"
   },
   "source": [
    "Примечание: Не нужно писать это руками, воспользуйтесь трансформерами из sklearn."
   ]
  },
  {
   "cell_type": "markdown",
   "metadata": {
    "id": "M_AksdSpV1Rx"
   },
   "source": [
    "*Для отладки решения можно использовать следующий датасет:*"
   ]
  },
  {
   "cell_type": "code",
   "execution_count": 3,
   "metadata": {
    "id": "_WIDEhfuV3-n"
   },
   "outputs": [],
   "source": [
    "import pandas as pd\n",
    "\n",
    "data_root = \"https://raw.githubusercontent.com/a-milenkin/Competitive_Data_Science/main/data/\"\n",
    "data = pd.read_csv(data_root + 'quickstart_train.csv')"
   ]
  },
  {
   "cell_type": "markdown",
   "metadata": {
    "id": "ngyDfN0mVRFx"
   },
   "source": [
    "Решение:"
   ]
  },
  {
   "cell_type": "code",
   "execution_count": 4,
   "metadata": {
    "colab": {
     "base_uri": "https://localhost:8080/"
    },
    "id": "qzv-UWuh-39m",
    "outputId": "fc21ea08-2d57-4ae1-eac7-c0a8f18afb9e"
   },
   "outputs": [
    {
     "name": "stdout",
     "output_type": "stream",
     "text": [
      "(2337, 11)\n",
      "(2337, 5)\n"
     ]
    }
   ],
   "source": [
    "from sklearn.impute import SimpleImputer\n",
    "from sklearn.preprocessing import MinMaxScaler\n",
    "from sklearn.pipeline import Pipeline\n",
    "from sklearn.feature_selection import SelectKBest, f_classif\n",
    "\n",
    "# Создаем pipeline\n",
    "numerical_transformer = Pipeline(steps=[\n",
    "    (\"imputer\", SimpleImputer(strategy=\"median\")),  # Заполнение пропусков медианой\n",
    "    (\"scaler\", MinMaxScaler()),  # Нормализация данных\n",
    "    (\"feature_selector\", SelectKBest(score_func=f_classif, k=5))  # Выбор топ-5 признаков\n",
    "])\n",
    "\n",
    "data_pred = numerical_transformer.fit_transform(data[numerical_features],\n",
    "                                                data['target_reg'])\n",
    "\n",
    "print(data[numerical_features].shape)\n",
    "print(data_pred.shape)"
   ]
  },
  {
   "cell_type": "markdown",
   "metadata": {
    "id": "9Naq02eP-5Te"
   },
   "source": [
    "# Задача на 8-ом шаге урока"
   ]
  },
  {
   "cell_type": "markdown",
   "metadata": {
    "id": "mSdj6gkPgAHe"
   },
   "source": [
    "**🧳 Пишем data_transformer**"
   ]
  },
  {
   "cell_type": "markdown",
   "metadata": {
    "id": "xg-sGMBeVg3I"
   },
   "source": [
    "Задача:\n",
    "\n",
    "*  Объедините предыдущие два шага вместе чтобы выполнялось следующее\n",
    "\n",
    "*  на numerical_features ваш трансформер вызывал numerical_transformer\n",
    "\n",
    "*  на categorical_features использовал categorical_transformer.\n"
   ]
  },
  {
   "cell_type": "markdown",
   "metadata": {
    "id": "d_BfoIauGeNy"
   },
   "source": [
    "Примечание:  categorical_transformer и numerical_transformer считайте уже объявленными.\n",
    "\n"
   ]
  },
  {
   "cell_type": "markdown",
   "metadata": {
    "id": "bkxAPHoqWqHJ"
   },
   "source": [
    "*Решение тестируется на тех же данных, что и предыдуще задачи - используются  трансформеры из предыдущих задач на 6-ом и 7-ом уроке*"
   ]
  },
  {
   "cell_type": "markdown",
   "metadata": {
    "id": "iFNbiuGEYiNB"
   },
   "source": [
    "Решение:"
   ]
  },
  {
   "cell_type": "code",
   "execution_count": 5,
   "metadata": {
    "id": "46CpNTSt_NUW"
   },
   "outputs": [
    {
     "name": "stdout",
     "output_type": "stream",
     "text": [
      "(2337, 11)\n",
      "(2337, 37)\n"
     ]
    }
   ],
   "source": [
    "import pandas as pd\n",
    "from sklearn.impute import SimpleImputer\n",
    "from sklearn.preprocessing import OneHotEncoder, MinMaxScaler\n",
    "from sklearn.pipeline import Pipeline\n",
    "from sklearn.compose import ColumnTransformer\n",
    "from sklearn.feature_selection import SelectKBest, f_classif\n",
    "\n",
    "import warnings\n",
    "\n",
    "warnings.filterwarnings(\"ignore\")\n",
    "\n",
    "\n",
    "cols2drop = ['car_id', 'target_reg', 'target_class']\n",
    "categorical_features = ['model', 'car_type', 'fuel_type']\n",
    "numerical_features = [c for c in data.columns\n",
    "                      if c not in categorical_features and c not in cols2drop]\n",
    "\n",
    "categorical_transformer = Pipeline(steps=[\n",
    "    (\"imputer\", SimpleImputer(strategy=\"constant\", fill_value=\"Unknown\")),\n",
    "    (\"onehot\", OneHotEncoder(handle_unknown=\"ignore\"))\n",
    "])\n",
    "\n",
    "numerical_transformer = Pipeline(steps=[\n",
    "    (\"imputer\", SimpleImputer(strategy=\"median\")),  # Заполнение пропусков медианой\n",
    "    (\"scaler\", MinMaxScaler()),  # Нормализация данных\n",
    "    (\"feature_selector\", SelectKBest(score_func=f_classif, k=5))  # Выбор топ-5 признаков\n",
    "])\n",
    "\n",
    "# соединим два предыдущих трансформера в один\n",
    "data_transformer = ColumnTransformer(transformers=[\n",
    "    (\"numerical\", numerical_transformer, numerical_features),\n",
    "    (\"categorical\", categorical_transformer, categorical_features)])\n",
    "\n",
    "data_pred = data_transformer.fit_transform(data, data['target_reg'])\n",
    "\n",
    "print(data[numerical_features].shape)\n",
    "print(data_pred.shape)"
   ]
  },
  {
   "cell_type": "markdown",
   "metadata": {
    "id": "tp2kr4xK_Lgu"
   },
   "source": [
    "# Задача на 9-ом шаге урока"
   ]
  },
  {
   "cell_type": "markdown",
   "metadata": {
    "id": "WhrgCYgKezLq"
   },
   "source": [
    "**🌂 Пишем свой классификатор**"
   ]
  },
  {
   "cell_type": "markdown",
   "metadata": {
    "id": "Yze_INl6QfrS"
   },
   "source": [
    "Задача:\n",
    "\n",
    "* Написать свой ансамбль по приведенной ниже структуре\n",
    "<center> <img src = https://ucarecdn.com/94fb93eb-b945-4cdf-900f-6741c1b0aaa4/> </center>\n",
    "\n",
    "*   В качестве final_estimator используй LogisticRegression()"
   ]
  },
  {
   "cell_type": "markdown",
   "metadata": {
    "id": "U3f6Jh7AJFk9"
   },
   "source": [
    "Примечание: ColumnTransformer уже объявлен и лежит в переменной data_transofmer. Список моделей вы можете найти в словаре в коде (их объявлять и импортировать не нужно)."
   ]
  },
  {
   "cell_type": "markdown",
   "metadata": {
    "id": "_X052eX2HEOJ"
   },
   "source": [
    "*Для тестирования решения можно использовать data_transformer из прошлой задачи*"
   ]
  },
  {
   "cell_type": "markdown",
   "metadata": {
    "id": "erJfBLB6W4eD"
   },
   "source": [
    "Решение:"
   ]
  },
  {
   "cell_type": "code",
   "execution_count": 6,
   "metadata": {
    "id": "Ilf29skJ_G8E"
   },
   "outputs": [
    {
     "data": {
      "text/html": [
       "<style>#sk-container-id-1 {color: black;}#sk-container-id-1 pre{padding: 0;}#sk-container-id-1 div.sk-toggleable {background-color: white;}#sk-container-id-1 label.sk-toggleable__label {cursor: pointer;display: block;width: 100%;margin-bottom: 0;padding: 0.3em;box-sizing: border-box;text-align: center;}#sk-container-id-1 label.sk-toggleable__label-arrow:before {content: \"▸\";float: left;margin-right: 0.25em;color: #696969;}#sk-container-id-1 label.sk-toggleable__label-arrow:hover:before {color: black;}#sk-container-id-1 div.sk-estimator:hover label.sk-toggleable__label-arrow:before {color: black;}#sk-container-id-1 div.sk-toggleable__content {max-height: 0;max-width: 0;overflow: hidden;text-align: left;background-color: #f0f8ff;}#sk-container-id-1 div.sk-toggleable__content pre {margin: 0.2em;color: black;border-radius: 0.25em;background-color: #f0f8ff;}#sk-container-id-1 input.sk-toggleable__control:checked~div.sk-toggleable__content {max-height: 200px;max-width: 100%;overflow: auto;}#sk-container-id-1 input.sk-toggleable__control:checked~label.sk-toggleable__label-arrow:before {content: \"▾\";}#sk-container-id-1 div.sk-estimator input.sk-toggleable__control:checked~label.sk-toggleable__label {background-color: #d4ebff;}#sk-container-id-1 div.sk-label input.sk-toggleable__control:checked~label.sk-toggleable__label {background-color: #d4ebff;}#sk-container-id-1 input.sk-hidden--visually {border: 0;clip: rect(1px 1px 1px 1px);clip: rect(1px, 1px, 1px, 1px);height: 1px;margin: -1px;overflow: hidden;padding: 0;position: absolute;width: 1px;}#sk-container-id-1 div.sk-estimator {font-family: monospace;background-color: #f0f8ff;border: 1px dotted black;border-radius: 0.25em;box-sizing: border-box;margin-bottom: 0.5em;}#sk-container-id-1 div.sk-estimator:hover {background-color: #d4ebff;}#sk-container-id-1 div.sk-parallel-item::after {content: \"\";width: 100%;border-bottom: 1px solid gray;flex-grow: 1;}#sk-container-id-1 div.sk-label:hover label.sk-toggleable__label {background-color: #d4ebff;}#sk-container-id-1 div.sk-serial::before {content: \"\";position: absolute;border-left: 1px solid gray;box-sizing: border-box;top: 0;bottom: 0;left: 50%;z-index: 0;}#sk-container-id-1 div.sk-serial {display: flex;flex-direction: column;align-items: center;background-color: white;padding-right: 0.2em;padding-left: 0.2em;position: relative;}#sk-container-id-1 div.sk-item {position: relative;z-index: 1;}#sk-container-id-1 div.sk-parallel {display: flex;align-items: stretch;justify-content: center;background-color: white;position: relative;}#sk-container-id-1 div.sk-item::before, #sk-container-id-1 div.sk-parallel-item::before {content: \"\";position: absolute;border-left: 1px solid gray;box-sizing: border-box;top: 0;bottom: 0;left: 50%;z-index: -1;}#sk-container-id-1 div.sk-parallel-item {display: flex;flex-direction: column;z-index: 1;position: relative;background-color: white;}#sk-container-id-1 div.sk-parallel-item:first-child::after {align-self: flex-end;width: 50%;}#sk-container-id-1 div.sk-parallel-item:last-child::after {align-self: flex-start;width: 50%;}#sk-container-id-1 div.sk-parallel-item:only-child::after {width: 0;}#sk-container-id-1 div.sk-dashed-wrapped {border: 1px dashed gray;margin: 0 0.4em 0.5em 0.4em;box-sizing: border-box;padding-bottom: 0.4em;background-color: white;}#sk-container-id-1 div.sk-label label {font-family: monospace;font-weight: bold;display: inline-block;line-height: 1.2em;}#sk-container-id-1 div.sk-label-container {text-align: center;}#sk-container-id-1 div.sk-container {/* jupyter's `normalize.less` sets `[hidden] { display: none; }` but bootstrap.min.css set `[hidden] { display: none !important; }` so we also need the `!important` here to be able to override the default hidden behavior on the sphinx rendered scikit-learn.org. See: https://github.com/scikit-learn/scikit-learn/issues/21755 */display: inline-block !important;position: relative;}#sk-container-id-1 div.sk-text-repr-fallback {display: none;}</style><div id=\"sk-container-id-1\" class=\"sk-top-container\"><div class=\"sk-text-repr-fallback\"><pre>StackingClassifier(estimators=[(&#x27;random_forest&#x27;,\n",
       "                                Pipeline(steps=[(&#x27;columntransformer&#x27;,\n",
       "                                                 ColumnTransformer(transformers=[(&#x27;numerical&#x27;,\n",
       "                                                                                  Pipeline(steps=[(&#x27;imputer&#x27;,\n",
       "                                                                                                   SimpleImputer(strategy=&#x27;median&#x27;)),\n",
       "                                                                                                  (&#x27;scaler&#x27;,\n",
       "                                                                                                   MinMaxScaler())]),\n",
       "                                                                                  [&#x27;car_rating&#x27;,\n",
       "                                                                                   &#x27;year_to_start&#x27;,\n",
       "                                                                                   &#x27;riders&#x27;,\n",
       "                                                                                   &#x27;year_to_work&#x27;,\n",
       "                                                                                   &#x27;mean_rating&#x27;,\n",
       "                                                                                   &#x27;distance_sum&#x27;,\n",
       "                                                                                   &#x27;rating_min&#x27;,\n",
       "                                                                                   &#x27;speed_max&#x27;,\n",
       "                                                                                   &#x27;user_ride_quality_medi...\n",
       "                                                               multi_strategy=None,\n",
       "                                                               n_estimators=None,\n",
       "                                                               n_jobs=None,\n",
       "                                                               num_parallel_tree=None,\n",
       "                                                               random_state=None, ...))])),\n",
       "                               (&#x27;lightgbm&#x27;,\n",
       "                                LGBMClassifier(cat_features=[&#x27;model&#x27;,\n",
       "                                                             &#x27;car_type&#x27;,\n",
       "                                                             &#x27;fuel_type&#x27;],\n",
       "                                               random_state=42, verbosity=-1)),\n",
       "                               (&#x27;catboost&#x27;,\n",
       "                                &lt;catboost.core.CatBoostClassifier object at 0x000002799FFEC550&gt;)],\n",
       "                   final_estimator=LogisticRegression(verbose=False), n_jobs=-1,\n",
       "                   verbose=False)</pre><b>In a Jupyter environment, please rerun this cell to show the HTML representation or trust the notebook. <br />On GitHub, the HTML representation is unable to render, please try loading this page with nbviewer.org.</b></div><div class=\"sk-container\" hidden><div class=\"sk-item sk-dashed-wrapped\"><div class=\"sk-label-container\"><div class=\"sk-label sk-toggleable\"><input class=\"sk-toggleable__control sk-hidden--visually\" id=\"sk-estimator-id-1\" type=\"checkbox\" ><label for=\"sk-estimator-id-1\" class=\"sk-toggleable__label sk-toggleable__label-arrow\">StackingClassifier</label><div class=\"sk-toggleable__content\"><pre>StackingClassifier(estimators=[(&#x27;random_forest&#x27;,\n",
       "                                Pipeline(steps=[(&#x27;columntransformer&#x27;,\n",
       "                                                 ColumnTransformer(transformers=[(&#x27;numerical&#x27;,\n",
       "                                                                                  Pipeline(steps=[(&#x27;imputer&#x27;,\n",
       "                                                                                                   SimpleImputer(strategy=&#x27;median&#x27;)),\n",
       "                                                                                                  (&#x27;scaler&#x27;,\n",
       "                                                                                                   MinMaxScaler())]),\n",
       "                                                                                  [&#x27;car_rating&#x27;,\n",
       "                                                                                   &#x27;year_to_start&#x27;,\n",
       "                                                                                   &#x27;riders&#x27;,\n",
       "                                                                                   &#x27;year_to_work&#x27;,\n",
       "                                                                                   &#x27;mean_rating&#x27;,\n",
       "                                                                                   &#x27;distance_sum&#x27;,\n",
       "                                                                                   &#x27;rating_min&#x27;,\n",
       "                                                                                   &#x27;speed_max&#x27;,\n",
       "                                                                                   &#x27;user_ride_quality_medi...\n",
       "                                                               multi_strategy=None,\n",
       "                                                               n_estimators=None,\n",
       "                                                               n_jobs=None,\n",
       "                                                               num_parallel_tree=None,\n",
       "                                                               random_state=None, ...))])),\n",
       "                               (&#x27;lightgbm&#x27;,\n",
       "                                LGBMClassifier(cat_features=[&#x27;model&#x27;,\n",
       "                                                             &#x27;car_type&#x27;,\n",
       "                                                             &#x27;fuel_type&#x27;],\n",
       "                                               random_state=42, verbosity=-1)),\n",
       "                               (&#x27;catboost&#x27;,\n",
       "                                &lt;catboost.core.CatBoostClassifier object at 0x000002799FFEC550&gt;)],\n",
       "                   final_estimator=LogisticRegression(verbose=False), n_jobs=-1,\n",
       "                   verbose=False)</pre></div></div></div><div class=\"sk-serial\"><div class=\"sk-item\"><div class=\"sk-parallel\"><div class=\"sk-parallel-item\"><div class=\"sk-item\"><div class=\"sk-label-container\"><div class=\"sk-label sk-toggleable\"><label>random_forest</label></div></div><div class=\"sk-serial\"><div class=\"sk-item\"><div class=\"sk-serial\"><div class=\"sk-item sk-dashed-wrapped\"><div class=\"sk-label-container\"><div class=\"sk-label sk-toggleable\"><input class=\"sk-toggleable__control sk-hidden--visually\" id=\"sk-estimator-id-2\" type=\"checkbox\" ><label for=\"sk-estimator-id-2\" class=\"sk-toggleable__label sk-toggleable__label-arrow\">columntransformer: ColumnTransformer</label><div class=\"sk-toggleable__content\"><pre>ColumnTransformer(transformers=[(&#x27;numerical&#x27;,\n",
       "                                 Pipeline(steps=[(&#x27;imputer&#x27;,\n",
       "                                                  SimpleImputer(strategy=&#x27;median&#x27;)),\n",
       "                                                 (&#x27;scaler&#x27;, MinMaxScaler())]),\n",
       "                                 [&#x27;car_rating&#x27;, &#x27;year_to_start&#x27;, &#x27;riders&#x27;,\n",
       "                                  &#x27;year_to_work&#x27;, &#x27;mean_rating&#x27;, &#x27;distance_sum&#x27;,\n",
       "                                  &#x27;rating_min&#x27;, &#x27;speed_max&#x27;,\n",
       "                                  &#x27;user_ride_quality_median&#x27;,\n",
       "                                  &#x27;deviation_normal_count&#x27;, &#x27;user_uniq&#x27;]),\n",
       "                                (&#x27;categorical&#x27;,\n",
       "                                 Pipeline(steps=[(&#x27;imputer&#x27;,\n",
       "                                                  SimpleImputer(fill_value=&#x27;Unknown&#x27;,\n",
       "                                                                strategy=&#x27;constant&#x27;)),\n",
       "                                                 (&#x27;onehot&#x27;,\n",
       "                                                  OneHotEncoder(handle_unknown=&#x27;ignore&#x27;))]),\n",
       "                                 [&#x27;model&#x27;, &#x27;car_type&#x27;, &#x27;fuel_type&#x27;])])</pre></div></div></div><div class=\"sk-parallel\"><div class=\"sk-parallel-item\"><div class=\"sk-item\"><div class=\"sk-label-container\"><div class=\"sk-label sk-toggleable\"><input class=\"sk-toggleable__control sk-hidden--visually\" id=\"sk-estimator-id-3\" type=\"checkbox\" ><label for=\"sk-estimator-id-3\" class=\"sk-toggleable__label sk-toggleable__label-arrow\">numerical</label><div class=\"sk-toggleable__content\"><pre>[&#x27;car_rating&#x27;, &#x27;year_to_start&#x27;, &#x27;riders&#x27;, &#x27;year_to_work&#x27;, &#x27;mean_rating&#x27;, &#x27;distance_sum&#x27;, &#x27;rating_min&#x27;, &#x27;speed_max&#x27;, &#x27;user_ride_quality_median&#x27;, &#x27;deviation_normal_count&#x27;, &#x27;user_uniq&#x27;]</pre></div></div></div><div class=\"sk-serial\"><div class=\"sk-item\"><div class=\"sk-serial\"><div class=\"sk-item\"><div class=\"sk-estimator sk-toggleable\"><input class=\"sk-toggleable__control sk-hidden--visually\" id=\"sk-estimator-id-4\" type=\"checkbox\" ><label for=\"sk-estimator-id-4\" class=\"sk-toggleable__label sk-toggleable__label-arrow\">SimpleImputer</label><div class=\"sk-toggleable__content\"><pre>SimpleImputer(strategy=&#x27;median&#x27;)</pre></div></div></div><div class=\"sk-item\"><div class=\"sk-estimator sk-toggleable\"><input class=\"sk-toggleable__control sk-hidden--visually\" id=\"sk-estimator-id-5\" type=\"checkbox\" ><label for=\"sk-estimator-id-5\" class=\"sk-toggleable__label sk-toggleable__label-arrow\">MinMaxScaler</label><div class=\"sk-toggleable__content\"><pre>MinMaxScaler()</pre></div></div></div></div></div></div></div></div><div class=\"sk-parallel-item\"><div class=\"sk-item\"><div class=\"sk-label-container\"><div class=\"sk-label sk-toggleable\"><input class=\"sk-toggleable__control sk-hidden--visually\" id=\"sk-estimator-id-6\" type=\"checkbox\" ><label for=\"sk-estimator-id-6\" class=\"sk-toggleable__label sk-toggleable__label-arrow\">categorical</label><div class=\"sk-toggleable__content\"><pre>[&#x27;model&#x27;, &#x27;car_type&#x27;, &#x27;fuel_type&#x27;]</pre></div></div></div><div class=\"sk-serial\"><div class=\"sk-item\"><div class=\"sk-serial\"><div class=\"sk-item\"><div class=\"sk-estimator sk-toggleable\"><input class=\"sk-toggleable__control sk-hidden--visually\" id=\"sk-estimator-id-7\" type=\"checkbox\" ><label for=\"sk-estimator-id-7\" class=\"sk-toggleable__label sk-toggleable__label-arrow\">SimpleImputer</label><div class=\"sk-toggleable__content\"><pre>SimpleImputer(fill_value=&#x27;Unknown&#x27;, strategy=&#x27;constant&#x27;)</pre></div></div></div><div class=\"sk-item\"><div class=\"sk-estimator sk-toggleable\"><input class=\"sk-toggleable__control sk-hidden--visually\" id=\"sk-estimator-id-8\" type=\"checkbox\" ><label for=\"sk-estimator-id-8\" class=\"sk-toggleable__label sk-toggleable__label-arrow\">OneHotEncoder</label><div class=\"sk-toggleable__content\"><pre>OneHotEncoder(handle_unknown=&#x27;ignore&#x27;)</pre></div></div></div></div></div></div></div></div></div></div><div class=\"sk-item\"><div class=\"sk-estimator sk-toggleable\"><input class=\"sk-toggleable__control sk-hidden--visually\" id=\"sk-estimator-id-9\" type=\"checkbox\" ><label for=\"sk-estimator-id-9\" class=\"sk-toggleable__label sk-toggleable__label-arrow\">RandomForestClassifier</label><div class=\"sk-toggleable__content\"><pre>RandomForestClassifier(n_jobs=-1, random_state=75, verbose=False,\n",
       "                       warm_start=True)</pre></div></div></div></div></div></div></div></div><div class=\"sk-parallel-item\"><div class=\"sk-item\"><div class=\"sk-label-container\"><div class=\"sk-label sk-toggleable\"><label>xgboost</label></div></div><div class=\"sk-serial\"><div class=\"sk-item\"><div class=\"sk-serial\"><div class=\"sk-item sk-dashed-wrapped\"><div class=\"sk-label-container\"><div class=\"sk-label sk-toggleable\"><input class=\"sk-toggleable__control sk-hidden--visually\" id=\"sk-estimator-id-10\" type=\"checkbox\" ><label for=\"sk-estimator-id-10\" class=\"sk-toggleable__label sk-toggleable__label-arrow\">columntransformer: ColumnTransformer</label><div class=\"sk-toggleable__content\"><pre>ColumnTransformer(transformers=[(&#x27;numerical&#x27;,\n",
       "                                 Pipeline(steps=[(&#x27;imputer&#x27;,\n",
       "                                                  SimpleImputer(strategy=&#x27;median&#x27;)),\n",
       "                                                 (&#x27;scaler&#x27;, MinMaxScaler())]),\n",
       "                                 [&#x27;car_rating&#x27;, &#x27;year_to_start&#x27;, &#x27;riders&#x27;,\n",
       "                                  &#x27;year_to_work&#x27;, &#x27;mean_rating&#x27;, &#x27;distance_sum&#x27;,\n",
       "                                  &#x27;rating_min&#x27;, &#x27;speed_max&#x27;,\n",
       "                                  &#x27;user_ride_quality_median&#x27;,\n",
       "                                  &#x27;deviation_normal_count&#x27;, &#x27;user_uniq&#x27;]),\n",
       "                                (&#x27;categorical&#x27;,\n",
       "                                 Pipeline(steps=[(&#x27;imputer&#x27;,\n",
       "                                                  SimpleImputer(fill_value=&#x27;Unknown&#x27;,\n",
       "                                                                strategy=&#x27;constant&#x27;)),\n",
       "                                                 (&#x27;onehot&#x27;,\n",
       "                                                  OneHotEncoder(handle_unknown=&#x27;ignore&#x27;))]),\n",
       "                                 [&#x27;model&#x27;, &#x27;car_type&#x27;, &#x27;fuel_type&#x27;])])</pre></div></div></div><div class=\"sk-parallel\"><div class=\"sk-parallel-item\"><div class=\"sk-item\"><div class=\"sk-label-container\"><div class=\"sk-label sk-toggleable\"><input class=\"sk-toggleable__control sk-hidden--visually\" id=\"sk-estimator-id-11\" type=\"checkbox\" ><label for=\"sk-estimator-id-11\" class=\"sk-toggleable__label sk-toggleable__label-arrow\">numerical</label><div class=\"sk-toggleable__content\"><pre>[&#x27;car_rating&#x27;, &#x27;year_to_start&#x27;, &#x27;riders&#x27;, &#x27;year_to_work&#x27;, &#x27;mean_rating&#x27;, &#x27;distance_sum&#x27;, &#x27;rating_min&#x27;, &#x27;speed_max&#x27;, &#x27;user_ride_quality_median&#x27;, &#x27;deviation_normal_count&#x27;, &#x27;user_uniq&#x27;]</pre></div></div></div><div class=\"sk-serial\"><div class=\"sk-item\"><div class=\"sk-serial\"><div class=\"sk-item\"><div class=\"sk-estimator sk-toggleable\"><input class=\"sk-toggleable__control sk-hidden--visually\" id=\"sk-estimator-id-12\" type=\"checkbox\" ><label for=\"sk-estimator-id-12\" class=\"sk-toggleable__label sk-toggleable__label-arrow\">SimpleImputer</label><div class=\"sk-toggleable__content\"><pre>SimpleImputer(strategy=&#x27;median&#x27;)</pre></div></div></div><div class=\"sk-item\"><div class=\"sk-estimator sk-toggleable\"><input class=\"sk-toggleable__control sk-hidden--visually\" id=\"sk-estimator-id-13\" type=\"checkbox\" ><label for=\"sk-estimator-id-13\" class=\"sk-toggleable__label sk-toggleable__label-arrow\">MinMaxScaler</label><div class=\"sk-toggleable__content\"><pre>MinMaxScaler()</pre></div></div></div></div></div></div></div></div><div class=\"sk-parallel-item\"><div class=\"sk-item\"><div class=\"sk-label-container\"><div class=\"sk-label sk-toggleable\"><input class=\"sk-toggleable__control sk-hidden--visually\" id=\"sk-estimator-id-14\" type=\"checkbox\" ><label for=\"sk-estimator-id-14\" class=\"sk-toggleable__label sk-toggleable__label-arrow\">categorical</label><div class=\"sk-toggleable__content\"><pre>[&#x27;model&#x27;, &#x27;car_type&#x27;, &#x27;fuel_type&#x27;]</pre></div></div></div><div class=\"sk-serial\"><div class=\"sk-item\"><div class=\"sk-serial\"><div class=\"sk-item\"><div class=\"sk-estimator sk-toggleable\"><input class=\"sk-toggleable__control sk-hidden--visually\" id=\"sk-estimator-id-15\" type=\"checkbox\" ><label for=\"sk-estimator-id-15\" class=\"sk-toggleable__label sk-toggleable__label-arrow\">SimpleImputer</label><div class=\"sk-toggleable__content\"><pre>SimpleImputer(fill_value=&#x27;Unknown&#x27;, strategy=&#x27;constant&#x27;)</pre></div></div></div><div class=\"sk-item\"><div class=\"sk-estimator sk-toggleable\"><input class=\"sk-toggleable__control sk-hidden--visually\" id=\"sk-estimator-id-16\" type=\"checkbox\" ><label for=\"sk-estimator-id-16\" class=\"sk-toggleable__label sk-toggleable__label-arrow\">OneHotEncoder</label><div class=\"sk-toggleable__content\"><pre>OneHotEncoder(handle_unknown=&#x27;ignore&#x27;)</pre></div></div></div></div></div></div></div></div></div></div><div class=\"sk-item\"><div class=\"sk-estimator sk-toggleable\"><input class=\"sk-toggleable__control sk-hidden--visually\" id=\"sk-estimator-id-17\" type=\"checkbox\" ><label for=\"sk-estimator-id-17\" class=\"sk-toggleable__label sk-toggleable__label-arrow\">XGBClassifier</label><div class=\"sk-toggleable__content\"><pre>XGBClassifier(base_score=None, booster=None, callbacks=None,\n",
       "              colsample_bylevel=None, colsample_bynode=None,\n",
       "              colsample_bytree=None, device=None, early_stopping_rounds=None,\n",
       "              enable_categorical=True, eval_metric=None, feature_types=None,\n",
       "              gamma=None, grow_policy=None, importance_type=None,\n",
       "              interaction_constraints=None, learning_rate=None, max_bin=None,\n",
       "              max_cat_threshold=None, max_cat_to_onehot=None,\n",
       "              max_delta_step=None, max_depth=None, max_leaves=None,\n",
       "              min_child_weight=None, missing=nan, monotone_constraints=None,\n",
       "              multi_strategy=None, n_estimators=None, n_jobs=None,\n",
       "              num_parallel_tree=None, random_state=None, ...)</pre></div></div></div></div></div></div></div></div><div class=\"sk-parallel-item\"><div class=\"sk-item\"><div class=\"sk-label-container\"><div class=\"sk-label sk-toggleable\"><label>lightgbm</label></div></div><div class=\"sk-serial\"><div class=\"sk-item\"><div class=\"sk-estimator sk-toggleable\"><input class=\"sk-toggleable__control sk-hidden--visually\" id=\"sk-estimator-id-18\" type=\"checkbox\" ><label for=\"sk-estimator-id-18\" class=\"sk-toggleable__label sk-toggleable__label-arrow\">LGBMClassifier</label><div class=\"sk-toggleable__content\"><pre>LGBMClassifier(cat_features=[&#x27;model&#x27;, &#x27;car_type&#x27;, &#x27;fuel_type&#x27;], random_state=42,\n",
       "               verbosity=-1)</pre></div></div></div></div></div></div><div class=\"sk-parallel-item\"><div class=\"sk-item\"><div class=\"sk-label-container\"><div class=\"sk-label sk-toggleable\"><label>catboost</label></div></div><div class=\"sk-serial\"><div class=\"sk-item\"><div class=\"sk-estimator sk-toggleable\"><input class=\"sk-toggleable__control sk-hidden--visually\" id=\"sk-estimator-id-19\" type=\"checkbox\" ><label for=\"sk-estimator-id-19\" class=\"sk-toggleable__label sk-toggleable__label-arrow\">CatBoostClassifier</label><div class=\"sk-toggleable__content\"><pre>&lt;catboost.core.CatBoostClassifier object at 0x000002799FFEC550&gt;</pre></div></div></div></div></div></div></div></div><div class=\"sk-item\"><div class=\"sk-parallel\"><div class=\"sk-parallel-item\"><div class=\"sk-item\"><div class=\"sk-label-container\"><div class=\"sk-label sk-toggleable\"><label>final_estimator</label></div></div><div class=\"sk-serial\"><div class=\"sk-item\"><div class=\"sk-estimator sk-toggleable\"><input class=\"sk-toggleable__control sk-hidden--visually\" id=\"sk-estimator-id-20\" type=\"checkbox\" ><label for=\"sk-estimator-id-20\" class=\"sk-toggleable__label sk-toggleable__label-arrow\">LogisticRegression</label><div class=\"sk-toggleable__content\"><pre>LogisticRegression(verbose=False)</pre></div></div></div></div></div></div></div></div></div></div></div></div>"
      ],
      "text/plain": [
       "StackingClassifier(estimators=[('random_forest',\n",
       "                                Pipeline(steps=[('columntransformer',\n",
       "                                                 ColumnTransformer(transformers=[('numerical',\n",
       "                                                                                  Pipeline(steps=[('imputer',\n",
       "                                                                                                   SimpleImputer(strategy='median')),\n",
       "                                                                                                  ('scaler',\n",
       "                                                                                                   MinMaxScaler())]),\n",
       "                                                                                  ['car_rating',\n",
       "                                                                                   'year_to_start',\n",
       "                                                                                   'riders',\n",
       "                                                                                   'year_to_work',\n",
       "                                                                                   'mean_rating',\n",
       "                                                                                   'distance_sum',\n",
       "                                                                                   'rating_min',\n",
       "                                                                                   'speed_max',\n",
       "                                                                                   'user_ride_quality_medi...\n",
       "                                                               multi_strategy=None,\n",
       "                                                               n_estimators=None,\n",
       "                                                               n_jobs=None,\n",
       "                                                               num_parallel_tree=None,\n",
       "                                                               random_state=None, ...))])),\n",
       "                               ('lightgbm',\n",
       "                                LGBMClassifier(cat_features=['model',\n",
       "                                                             'car_type',\n",
       "                                                             'fuel_type'],\n",
       "                                               random_state=42, verbosity=-1)),\n",
       "                               ('catboost',\n",
       "                                <catboost.core.CatBoostClassifier object at 0x000002799FFEC550>)],\n",
       "                   final_estimator=LogisticRegression(verbose=False), n_jobs=-1,\n",
       "                   verbose=False)"
      ]
     },
     "execution_count": 6,
     "metadata": {},
     "output_type": "execute_result"
    }
   ],
   "source": [
    "import pandas as pd\n",
    "from sklearn.impute import SimpleImputer\n",
    "from sklearn.preprocessing import OneHotEncoder, MinMaxScaler\n",
    "from sklearn.pipeline import Pipeline, make_pipeline\n",
    "from sklearn.compose import ColumnTransformer\n",
    "from sklearn.feature_selection import SelectKBest, f_classif\n",
    "from sklearn.ensemble import ExtraTreesClassifier, RandomForestClassifier, StackingClassifier\n",
    "from sklearn.linear_model import LogisticRegression\n",
    "\n",
    "import lightgbm as lgbm\n",
    "import xgboost as xgb\n",
    "import catboost as cb\n",
    "\n",
    "import warnings\n",
    "\n",
    "warnings.filterwarnings(\"ignore\")\n",
    "\n",
    "\n",
    "cols2drop = ['car_id', 'target_reg', 'target_class']\n",
    "categorical_features = ['model', 'car_type', 'fuel_type']\n",
    "numerical_features = [c for c in data.columns\n",
    "                      if c not in categorical_features and c not in cols2drop]\n",
    "\n",
    "categorical_transformer = Pipeline(steps=[\n",
    "    (\"imputer\", SimpleImputer(strategy=\"constant\", fill_value=\"Unknown\")),\n",
    "    (\"onehot\", OneHotEncoder(handle_unknown=\"ignore\"))\n",
    "])\n",
    "\n",
    "numerical_transformer = Pipeline(steps=[\n",
    "    (\"imputer\", SimpleImputer(strategy=\"median\")),  # Заполнение пропусков медианой\n",
    "    (\"scaler\", MinMaxScaler()),  # Нормализация данных\n",
    "#     (\"feature_selector\", SelectKBest(score_func=f_classif, k=5))  # Выбор топ-5 признаков\n",
    "])\n",
    "\n",
    "# соединим два предыдущих трансформера в один\n",
    "data_transformer = ColumnTransformer(transformers=[\n",
    "    (\"numerical\", numerical_transformer, numerical_features),\n",
    "    (\"categorical\", categorical_transformer, categorical_features)])\n",
    "\n",
    "params_cat = {'verbose': False,\n",
    "              'use_best_model': True,\n",
    "              'cat_features': categorical_features,\n",
    "              'loss_function': 'MultiClass',\n",
    "              'random_state': 42,\n",
    "              }\n",
    "cat_model = cb.CatBoostClassifier(**params_cat)\n",
    "\n",
    "params_lgbm = {'cat_features': categorical_features,\n",
    "               'random_state': 42,\n",
    "               'verbosity': -1,\n",
    "               }\n",
    "lgbm_model = lgbm.LGBMClassifier(**params_lgbm)\n",
    "\n",
    "params_xgb = {'enable_categorical': True\n",
    "              }\n",
    "xgb_model = xgb.XGBClassifier(**params_xgb)\n",
    "\n",
    "random_forest_model = RandomForestClassifier(warm_start=True,\n",
    "                                             n_jobs=-1,\n",
    "                                             random_state=75,\n",
    "                                             verbose=False)\n",
    "\n",
    "models = {'random_forest': random_forest_model,\n",
    "          'xgboost': xgb_model,\n",
    "          'lightgbm': lgbm_model,\n",
    "          'catboost': cat_model}\n",
    "\n",
    "estimators = [(\"random_forest\", make_pipeline(data_transformer, random_forest_model)),\n",
    "              (\"xgboost\", make_pipeline(data_transformer, xgb_model)),\n",
    "              (\"lightgbm\", lgbm_model),\n",
    "              (\"catboost\", cat_model),\n",
    "              ]\n",
    "\n",
    "# в качестве мета-модели будем использовать LogisticRegression\n",
    "stacking_classifier = StackingClassifier(estimators=estimators,\n",
    "                                         final_estimator=LogisticRegression(verbose=False),\n",
    "                                         n_jobs=-1,\n",
    "                                         verbose=False,\n",
    "                                         )\n",
    "\n",
    "stacking_classifier"
   ]
  },
  {
   "cell_type": "markdown",
   "metadata": {
    "id": "XoxhPMZzHlNU"
   },
   "source": [
    "# Задача на 10-ом шаге урока"
   ]
  },
  {
   "cell_type": "markdown",
   "metadata": {
    "id": "7SoeTlige84X"
   },
   "source": [
    "**🧶 Hard*. Пишем свой text_transformer 🤖**"
   ]
  },
  {
   "cell_type": "markdown",
   "metadata": {
    "id": "iL3WPNEZ-V2V"
   },
   "source": [
    "Задача:"
   ]
  },
  {
   "cell_type": "markdown",
   "metadata": {
    "id": "J73-zOXn-VxL"
   },
   "source": [
    "\n",
    "\n",
    "* Необходимо реализовать кастомный text_transformer, который можно будет встраивать в sklearn.Pipelines(). Подробно про то, как реализовать свой трансформер, вы можете прочитать [здесь](https://towardsdatascience.com/pipelines-custom-transformers-in-scikit-learn-the-step-by-step-guide-with-python-code-4a7d9b068156).\n",
    "\n",
    "\n",
    "*   трансформер должен работать с текстовыми столбцами и делать следующие преобразования:\n",
    "1. Удалять из текста стоп-слова, которые задаются списком в параметрах трансформера (сравнение нужно проводить до нормализации).\n",
    "2. Нормализовать слова при помощи get_normal_string(). То есть каждое слово нужно заменить на get_normal_string(word) для всех слов в тексте.\n",
    "3. Cчитайте, что слова разделены пробелами."
   ]
  },
  {
   "cell_type": "markdown",
   "metadata": {
    "id": "MleESejHRqdu"
   },
   "source": [
    "*Ваш код будет тестироваться вот таким небольшим пайплайном (можете его использовать, чтобы отлаживаться локально):*"
   ]
  },
  {
   "cell_type": "markdown",
   "metadata": {
    "id": "lpKlc4Q0ICz7"
   },
   "source": [
    "Решение:"
   ]
  },
  {
   "cell_type": "code",
   "execution_count": 7,
   "metadata": {
    "id": "67kM6S6IIHwM"
   },
   "outputs": [],
   "source": [
    "import numpy as np\n",
    "import pandas as pd\n",
    "from sklearn.base import BaseEstimator, TransformerMixin\n",
    "from sklearn.impute import SimpleImputer\n",
    "from sklearn.pipeline import Pipeline\n",
    "\n",
    "\n",
    "# Заглушка для нормализации слов\n",
    "def get_normal_string(word):\n",
    "    # Здесь должна быть функция нормализации\n",
    "    return word.lower()\n",
    "\n",
    "\n",
    "class TextTransformer(BaseEstimator, TransformerMixin):\n",
    "    def __init__(self, stop_words):\n",
    "        \"\"\"\n",
    "        Инициализация трансформера.\n",
    "        :param stop_words: Список стоп-слов.\n",
    "        \"\"\"\n",
    "        self.stop_words = set(stop_words)  # Преобразуем в множество для быстрого поиска\n",
    "\n",
    "    def fit(self, X, y=None):\n",
    "        \"\"\"\n",
    "        Обучение трансформера (здесь ничего не нужно).\n",
    "        \"\"\"\n",
    "        return self\n",
    "\n",
    "    def filter_text(self, text):\n",
    "        \"\"\"\n",
    "        Обработка одного текста: удаление стоп-слов и нормализация.\n",
    "        :param text: Входной текст (строка).\n",
    "        :return: Преобразованный текст (строка).\n",
    "        \"\"\"\n",
    "        words = text.split()  # Разделяем текст на слова\n",
    "        filtered_words = [get_normal_string(word) for word in words\n",
    "                          if word not in self.stop_words]\n",
    "        return \" \".join(filtered_words)  # Объединяем обратно в строку\n",
    "\n",
    "    def transform(self, X):\n",
    "        \"\"\"\n",
    "        Преобразование данных.\n",
    "        :param X: Входные данные (pd.DataFrame или np.array с текстовыми колонками).\n",
    "        :return: Преобразованный массив той же размерности, что и входной.\n",
    "        \"\"\"\n",
    "        if isinstance(X, pd.DataFrame):\n",
    "            X = X.values  # Преобразуем в numpy массив\n",
    "\n",
    "        transformed_data = np.array([self.filter_text(text) for text in X.ravel()])\n",
    "        return transformed_data.reshape(X.shape)"
   ]
  },
  {
   "cell_type": "code",
   "execution_count": 8,
   "metadata": {
    "colab": {
     "base_uri": "https://localhost:8080/"
    },
    "id": "Hm8brOziUHsb",
    "outputId": "8c47957d-6271-488b-93b6-f92a37d3b54a"
   },
   "outputs": [
    {
     "name": "stdout",
     "output_type": "stream",
     "text": [
      "[['текст один']\n",
      " ['текста']\n",
      " ['текста']]\n"
     ]
    }
   ],
   "source": [
    "# Данные для теста\n",
    "data = pd.DataFrame({'text': ['текст пример один', 'ещё пример текста', 'пример текста']})\n",
    "stop_words_list = ['пример', 'ещё']  # Стоп-слова\n",
    "\n",
    "# Пайплайн с TextTransformer\n",
    "text_transformers = Pipeline(steps=[\n",
    "    (\"imputer\", SimpleImputer(strategy='constant', fill_value='')),  # Заполнение пропусков\n",
    "    (\"scaler\", TextTransformer(stop_words_list))  # Наш кастомный трансформер\n",
    "])\n",
    "\n",
    "# Преобразование данных\n",
    "transformed_data = text_transformers.fit_transform(data[['text']])\n",
    "print(transformed_data)"
   ]
  },
  {
   "cell_type": "code",
   "execution_count": null,
   "metadata": {},
   "outputs": [],
   "source": []
  }
 ],
 "metadata": {
  "colab": {
   "collapsed_sections": [
    "tQFfZ4nx_fMo",
    "MzSsFM41G7bl",
    "9Naq02eP-5Te",
    "tp2kr4xK_Lgu",
    "XoxhPMZzHlNU"
   ],
   "provenance": []
  },
  "kernelspec": {
   "display_name": "Python 3 (ipykernel)",
   "language": "python",
   "name": "python3"
  },
  "language_info": {
   "codemirror_mode": {
    "name": "ipython",
    "version": 3
   },
   "file_extension": ".py",
   "mimetype": "text/x-python",
   "name": "python",
   "nbconvert_exporter": "python",
   "pygments_lexer": "ipython3",
   "version": "3.11.5"
  }
 },
 "nbformat": 4,
 "nbformat_minor": 1
}
