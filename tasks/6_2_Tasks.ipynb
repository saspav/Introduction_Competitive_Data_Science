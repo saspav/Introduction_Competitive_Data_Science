{
  "nbformat": 4,
  "nbformat_minor": 0,
  "metadata": {
    "colab": {
      "provenance": [],
      "collapsed_sections": [
        "_g-feWYkdzVK",
        "tQFfZ4nx_fMo",
        "MzSsFM41G7bl",
        "tp2kr4xK_Lgu",
        "XoxhPMZzHlNU"
      ],
      "include_colab_link": true
    },
    "kernelspec": {
      "name": "python3",
      "display_name": "Python 3"
    },
    "language_info": {
      "name": "python"
    }
  },
  "cells": [
    {
      "cell_type": "markdown",
      "metadata": {
        "id": "view-in-github",
        "colab_type": "text"
      },
      "source": [
        "<a href=\"https://colab.research.google.com/github/saspav/Introduction_Competitive_Data_Science/blob/main/tasks/6_2_Tasks.ipynb\" target=\"_parent\"><img src=\"https://colab.research.google.com/assets/colab-badge.svg\" alt=\"Open In Colab\"/></a>"
      ]
    },
    {
      "cell_type": "markdown",
      "source": [
        "# Задача на 3-ом шаге урока"
      ],
      "metadata": {
        "id": "_g-feWYkdzVK"
      }
    },
    {
      "cell_type": "markdown",
      "source": [
        "**Застекай их**"
      ],
      "metadata": {
        "id": "Cch6MCo7fP7q"
      }
    },
    {
      "cell_type": "markdown",
      "source": [
        "Объявите модель StackingClassifier(), которая в качестве базовых моделей будет принимать список estimators, а в качестве метамодели использует LogisticRegression()."
      ],
      "metadata": {
        "id": "FyiHNYOXmjWJ"
      }
    },
    {
      "cell_type": "code",
      "source": [
        "from sklearn.linear_model import LogisticRegression\n",
        "from sklearn.svm import SVC\n",
        "from sklearn.ensemble import StackingClassifier\n",
        "\n",
        "estimators = [(\"logreg\", LogisticRegression()), (\"svc\", SVC())]\n",
        "meta_model = StackingClassifier(estimators, final_estimator=LogisticRegression())"
      ],
      "metadata": {
        "id": "Ay6An0NddwOc"
      },
      "execution_count": 32,
      "outputs": []
    },
    {
      "cell_type": "markdown",
      "source": [
        "# Задача на 5-ом шаге урока"
      ],
      "metadata": {
        "id": "tQFfZ4nx_fMo"
      }
    },
    {
      "cell_type": "markdown",
      "source": [
        "**Разгоняем метамодель**"
      ],
      "metadata": {
        "id": "mAxLZmxXfamF"
      }
    },
    {
      "cell_type": "markdown",
      "source": [
        "Ссылка на данные для тестирования"
      ],
      "metadata": {
        "id": "UJRZxUvSnGAa"
      }
    },
    {
      "cell_type": "code",
      "source": [
        "import numpy as np\n",
        "import pandas as pd\n",
        "from itertools import product\n",
        "\n",
        "df = pd.read_csv('https://stepik.org/media/attachments/lesson/825511/meta_feautres_data.csv')\n",
        "\n",
        "df.head()"
      ],
      "metadata": {
        "id": "Mhwbu91nthzl",
        "colab": {
          "base_uri": "https://localhost:8080/",
          "height": 206
        },
        "outputId": "b244ff34-9035-4eb6-ed82-02aab7b0060a"
      },
      "execution_count": 33,
      "outputs": [
        {
          "output_type": "execute_result",
          "data": {
            "text/plain": [
              "   index     target     model\n",
              "0      0  65.927922  catboost\n",
              "1      1  44.248116  catboost\n",
              "2      2  43.807966  catboost\n",
              "3      3  45.661121  catboost\n",
              "4      4  43.653036  catboost"
            ],
            "text/html": [
              "\n",
              "  <div id=\"df-4b5999eb-8ee0-48a1-b9c0-a7a2d9d8328b\" class=\"colab-df-container\">\n",
              "    <div>\n",
              "<style scoped>\n",
              "    .dataframe tbody tr th:only-of-type {\n",
              "        vertical-align: middle;\n",
              "    }\n",
              "\n",
              "    .dataframe tbody tr th {\n",
              "        vertical-align: top;\n",
              "    }\n",
              "\n",
              "    .dataframe thead th {\n",
              "        text-align: right;\n",
              "    }\n",
              "</style>\n",
              "<table border=\"1\" class=\"dataframe\">\n",
              "  <thead>\n",
              "    <tr style=\"text-align: right;\">\n",
              "      <th></th>\n",
              "      <th>index</th>\n",
              "      <th>target</th>\n",
              "      <th>model</th>\n",
              "    </tr>\n",
              "  </thead>\n",
              "  <tbody>\n",
              "    <tr>\n",
              "      <th>0</th>\n",
              "      <td>0</td>\n",
              "      <td>65.927922</td>\n",
              "      <td>catboost</td>\n",
              "    </tr>\n",
              "    <tr>\n",
              "      <th>1</th>\n",
              "      <td>1</td>\n",
              "      <td>44.248116</td>\n",
              "      <td>catboost</td>\n",
              "    </tr>\n",
              "    <tr>\n",
              "      <th>2</th>\n",
              "      <td>2</td>\n",
              "      <td>43.807966</td>\n",
              "      <td>catboost</td>\n",
              "    </tr>\n",
              "    <tr>\n",
              "      <th>3</th>\n",
              "      <td>3</td>\n",
              "      <td>45.661121</td>\n",
              "      <td>catboost</td>\n",
              "    </tr>\n",
              "    <tr>\n",
              "      <th>4</th>\n",
              "      <td>4</td>\n",
              "      <td>43.653036</td>\n",
              "      <td>catboost</td>\n",
              "    </tr>\n",
              "  </tbody>\n",
              "</table>\n",
              "</div>\n",
              "    <div class=\"colab-df-buttons\">\n",
              "\n",
              "  <div class=\"colab-df-container\">\n",
              "    <button class=\"colab-df-convert\" onclick=\"convertToInteractive('df-4b5999eb-8ee0-48a1-b9c0-a7a2d9d8328b')\"\n",
              "            title=\"Convert this dataframe to an interactive table.\"\n",
              "            style=\"display:none;\">\n",
              "\n",
              "  <svg xmlns=\"http://www.w3.org/2000/svg\" height=\"24px\" viewBox=\"0 -960 960 960\">\n",
              "    <path d=\"M120-120v-720h720v720H120Zm60-500h600v-160H180v160Zm220 220h160v-160H400v160Zm0 220h160v-160H400v160ZM180-400h160v-160H180v160Zm440 0h160v-160H620v160ZM180-180h160v-160H180v160Zm440 0h160v-160H620v160Z\"/>\n",
              "  </svg>\n",
              "    </button>\n",
              "\n",
              "  <style>\n",
              "    .colab-df-container {\n",
              "      display:flex;\n",
              "      gap: 12px;\n",
              "    }\n",
              "\n",
              "    .colab-df-convert {\n",
              "      background-color: #E8F0FE;\n",
              "      border: none;\n",
              "      border-radius: 50%;\n",
              "      cursor: pointer;\n",
              "      display: none;\n",
              "      fill: #1967D2;\n",
              "      height: 32px;\n",
              "      padding: 0 0 0 0;\n",
              "      width: 32px;\n",
              "    }\n",
              "\n",
              "    .colab-df-convert:hover {\n",
              "      background-color: #E2EBFA;\n",
              "      box-shadow: 0px 1px 2px rgba(60, 64, 67, 0.3), 0px 1px 3px 1px rgba(60, 64, 67, 0.15);\n",
              "      fill: #174EA6;\n",
              "    }\n",
              "\n",
              "    .colab-df-buttons div {\n",
              "      margin-bottom: 4px;\n",
              "    }\n",
              "\n",
              "    [theme=dark] .colab-df-convert {\n",
              "      background-color: #3B4455;\n",
              "      fill: #D2E3FC;\n",
              "    }\n",
              "\n",
              "    [theme=dark] .colab-df-convert:hover {\n",
              "      background-color: #434B5C;\n",
              "      box-shadow: 0px 1px 3px 1px rgba(0, 0, 0, 0.15);\n",
              "      filter: drop-shadow(0px 1px 2px rgba(0, 0, 0, 0.3));\n",
              "      fill: #FFFFFF;\n",
              "    }\n",
              "  </style>\n",
              "\n",
              "    <script>\n",
              "      const buttonEl =\n",
              "        document.querySelector('#df-4b5999eb-8ee0-48a1-b9c0-a7a2d9d8328b button.colab-df-convert');\n",
              "      buttonEl.style.display =\n",
              "        google.colab.kernel.accessAllowed ? 'block' : 'none';\n",
              "\n",
              "      async function convertToInteractive(key) {\n",
              "        const element = document.querySelector('#df-4b5999eb-8ee0-48a1-b9c0-a7a2d9d8328b');\n",
              "        const dataTable =\n",
              "          await google.colab.kernel.invokeFunction('convertToInteractive',\n",
              "                                                    [key], {});\n",
              "        if (!dataTable) return;\n",
              "\n",
              "        const docLinkHtml = 'Like what you see? Visit the ' +\n",
              "          '<a target=\"_blank\" href=https://colab.research.google.com/notebooks/data_table.ipynb>data table notebook</a>'\n",
              "          + ' to learn more about interactive tables.';\n",
              "        element.innerHTML = '';\n",
              "        dataTable['output_type'] = 'display_data';\n",
              "        await google.colab.output.renderOutput(dataTable, element);\n",
              "        const docLink = document.createElement('div');\n",
              "        docLink.innerHTML = docLinkHtml;\n",
              "        element.appendChild(docLink);\n",
              "      }\n",
              "    </script>\n",
              "  </div>\n",
              "\n",
              "\n",
              "<div id=\"df-97f331ee-fdee-4e69-bdf6-69a0c4c42404\">\n",
              "  <button class=\"colab-df-quickchart\" onclick=\"quickchart('df-97f331ee-fdee-4e69-bdf6-69a0c4c42404')\"\n",
              "            title=\"Suggest charts\"\n",
              "            style=\"display:none;\">\n",
              "\n",
              "<svg xmlns=\"http://www.w3.org/2000/svg\" height=\"24px\"viewBox=\"0 0 24 24\"\n",
              "     width=\"24px\">\n",
              "    <g>\n",
              "        <path d=\"M19 3H5c-1.1 0-2 .9-2 2v14c0 1.1.9 2 2 2h14c1.1 0 2-.9 2-2V5c0-1.1-.9-2-2-2zM9 17H7v-7h2v7zm4 0h-2V7h2v10zm4 0h-2v-4h2v4z\"/>\n",
              "    </g>\n",
              "</svg>\n",
              "  </button>\n",
              "\n",
              "<style>\n",
              "  .colab-df-quickchart {\n",
              "      --bg-color: #E8F0FE;\n",
              "      --fill-color: #1967D2;\n",
              "      --hover-bg-color: #E2EBFA;\n",
              "      --hover-fill-color: #174EA6;\n",
              "      --disabled-fill-color: #AAA;\n",
              "      --disabled-bg-color: #DDD;\n",
              "  }\n",
              "\n",
              "  [theme=dark] .colab-df-quickchart {\n",
              "      --bg-color: #3B4455;\n",
              "      --fill-color: #D2E3FC;\n",
              "      --hover-bg-color: #434B5C;\n",
              "      --hover-fill-color: #FFFFFF;\n",
              "      --disabled-bg-color: #3B4455;\n",
              "      --disabled-fill-color: #666;\n",
              "  }\n",
              "\n",
              "  .colab-df-quickchart {\n",
              "    background-color: var(--bg-color);\n",
              "    border: none;\n",
              "    border-radius: 50%;\n",
              "    cursor: pointer;\n",
              "    display: none;\n",
              "    fill: var(--fill-color);\n",
              "    height: 32px;\n",
              "    padding: 0;\n",
              "    width: 32px;\n",
              "  }\n",
              "\n",
              "  .colab-df-quickchart:hover {\n",
              "    background-color: var(--hover-bg-color);\n",
              "    box-shadow: 0 1px 2px rgba(60, 64, 67, 0.3), 0 1px 3px 1px rgba(60, 64, 67, 0.15);\n",
              "    fill: var(--button-hover-fill-color);\n",
              "  }\n",
              "\n",
              "  .colab-df-quickchart-complete:disabled,\n",
              "  .colab-df-quickchart-complete:disabled:hover {\n",
              "    background-color: var(--disabled-bg-color);\n",
              "    fill: var(--disabled-fill-color);\n",
              "    box-shadow: none;\n",
              "  }\n",
              "\n",
              "  .colab-df-spinner {\n",
              "    border: 2px solid var(--fill-color);\n",
              "    border-color: transparent;\n",
              "    border-bottom-color: var(--fill-color);\n",
              "    animation:\n",
              "      spin 1s steps(1) infinite;\n",
              "  }\n",
              "\n",
              "  @keyframes spin {\n",
              "    0% {\n",
              "      border-color: transparent;\n",
              "      border-bottom-color: var(--fill-color);\n",
              "      border-left-color: var(--fill-color);\n",
              "    }\n",
              "    20% {\n",
              "      border-color: transparent;\n",
              "      border-left-color: var(--fill-color);\n",
              "      border-top-color: var(--fill-color);\n",
              "    }\n",
              "    30% {\n",
              "      border-color: transparent;\n",
              "      border-left-color: var(--fill-color);\n",
              "      border-top-color: var(--fill-color);\n",
              "      border-right-color: var(--fill-color);\n",
              "    }\n",
              "    40% {\n",
              "      border-color: transparent;\n",
              "      border-right-color: var(--fill-color);\n",
              "      border-top-color: var(--fill-color);\n",
              "    }\n",
              "    60% {\n",
              "      border-color: transparent;\n",
              "      border-right-color: var(--fill-color);\n",
              "    }\n",
              "    80% {\n",
              "      border-color: transparent;\n",
              "      border-right-color: var(--fill-color);\n",
              "      border-bottom-color: var(--fill-color);\n",
              "    }\n",
              "    90% {\n",
              "      border-color: transparent;\n",
              "      border-bottom-color: var(--fill-color);\n",
              "    }\n",
              "  }\n",
              "</style>\n",
              "\n",
              "  <script>\n",
              "    async function quickchart(key) {\n",
              "      const quickchartButtonEl =\n",
              "        document.querySelector('#' + key + ' button');\n",
              "      quickchartButtonEl.disabled = true;  // To prevent multiple clicks.\n",
              "      quickchartButtonEl.classList.add('colab-df-spinner');\n",
              "      try {\n",
              "        const charts = await google.colab.kernel.invokeFunction(\n",
              "            'suggestCharts', [key], {});\n",
              "      } catch (error) {\n",
              "        console.error('Error during call to suggestCharts:', error);\n",
              "      }\n",
              "      quickchartButtonEl.classList.remove('colab-df-spinner');\n",
              "      quickchartButtonEl.classList.add('colab-df-quickchart-complete');\n",
              "    }\n",
              "    (() => {\n",
              "      let quickchartButtonEl =\n",
              "        document.querySelector('#df-97f331ee-fdee-4e69-bdf6-69a0c4c42404 button');\n",
              "      quickchartButtonEl.style.display =\n",
              "        google.colab.kernel.accessAllowed ? 'block' : 'none';\n",
              "    })();\n",
              "  </script>\n",
              "</div>\n",
              "    </div>\n",
              "  </div>\n"
            ],
            "application/vnd.google.colaboratory.intrinsic+json": {
              "type": "dataframe",
              "variable_name": "df",
              "summary": "{\n  \"name\": \"df\",\n  \"rows\": 1755,\n  \"fields\": [\n    {\n      \"column\": \"index\",\n      \"properties\": {\n        \"dtype\": \"number\",\n        \"std\": 168,\n        \"min\": 0,\n        \"max\": 584,\n        \"num_unique_values\": 585,\n        \"samples\": [\n          383,\n          422,\n          90\n        ],\n        \"semantic_type\": \"\",\n        \"description\": \"\"\n      }\n    },\n    {\n      \"column\": \"target\",\n      \"properties\": {\n        \"dtype\": \"number\",\n        \"std\": 3.699951090544933,\n        \"min\": 34.46144,\n        \"max\": 77.952411045197,\n        \"num_unique_values\": 1679,\n        \"samples\": [\n          45.637024,\n          43.76262704507837,\n          43.53500665438354\n        ],\n        \"semantic_type\": \"\",\n        \"description\": \"\"\n      }\n    },\n    {\n      \"column\": \"model\",\n      \"properties\": {\n        \"dtype\": \"category\",\n        \"num_unique_values\": 3,\n        \"samples\": [\n          \"catboost\",\n          \"lgbm\",\n          \"xgb\"\n        ],\n        \"semantic_type\": \"\",\n        \"description\": \"\"\n      }\n    }\n  ]\n}"
            }
          },
          "metadata": {},
          "execution_count": 33
        }
      ]
    },
    {
      "cell_type": "code",
      "source": [
        "pvt = df.pivot_table(index='index', columns='model', values='target')\n",
        "pvt_columns = pvt.columns\n",
        "\n",
        "for (oper, func), pair in product((('dif', pd.Series.sub), ('div', pd.Series.divide)),\n",
        "                                  product(pvt_columns, repeat=2)):\n",
        "    pvt[f'_{oper}_'.join(pair)] = func(*[pvt[col] for col in pair])\n",
        "\n",
        "pvt.rename(columns={col: f'target_{col}' for col in pvt_columns}, inplace=True)\n",
        "pvt.to_csv('submit_6_2_6_V2.csv')\n"
      ],
      "metadata": {
        "id": "ZP0PMcbsffYP"
      },
      "execution_count": 34,
      "outputs": []
    },
    {
      "cell_type": "markdown",
      "source": [
        "# Задача на 6-ом и 7-ом шаге урока"
      ],
      "metadata": {
        "id": "MzSsFM41G7bl"
      }
    },
    {
      "cell_type": "markdown",
      "source": [
        "**Пишем свой стекер и обучаем его**"
      ],
      "metadata": {
        "id": "GpdzC9J7fy-t"
      }
    },
    {
      "cell_type": "markdown",
      "source": [
        "На 6-ом шаге урока пишем класс Blender.\n",
        "На 7-ом шаге урока воспользуйся классом Blender, который написал на предыдущем задании, и обучи свой ансамбль."
      ],
      "metadata": {
        "id": "jBDRsANYt30s"
      }
    },
    {
      "cell_type": "markdown",
      "source": [
        "Для тестирования на данных можно взять датасет"
      ],
      "metadata": {
        "id": "tpRUSmVH5pp8"
      }
    },
    {
      "cell_type": "code",
      "source": [
        "from sklearn import datasets\n",
        "from sklearn.model_selection import train_test_split, KFold\n",
        "\n",
        "X, y = datasets.load_diabetes(return_X_y=True)\n",
        "X_train, X_holdout, y_train, y_holdout = train_test_split(X, y, random_state=42, shuffle=True)"
      ],
      "metadata": {
        "id": "7wTFxAxfighS"
      },
      "execution_count": 35,
      "outputs": []
    },
    {
      "cell_type": "code",
      "source": [],
      "metadata": {
        "id": "8qZVIE2XwF4u"
      },
      "execution_count": 25,
      "outputs": []
    },
    {
      "cell_type": "markdown",
      "source": [
        "Решение шаг 6"
      ],
      "metadata": {
        "id": "dGJ36Gei5pcK"
      }
    },
    {
      "cell_type": "code",
      "source": [
        "class Blender:\n",
        "    def __init__(self, base_models, meta_model):\n",
        "        \"\"\"\n",
        "        base_models - список базовых моделей, которые нужно обучать на изначальных данных\n",
        "        meta_model - мета модель, которая обучается на предсказаниях базовых моделей\n",
        "        Считайте, что модель, которая передается имеет поля .fit(X_train, y_train) и .predict(X_test)\n",
        "        .predict(X_test) возвращает предсказания размерности (n_samples,)\n",
        "        \"\"\"\n",
        "        self.base_models = base_models\n",
        "        self.meta_model = meta_model\n",
        "\n",
        "    def stack_predicts(self, X):\n",
        "        return np.hstack([model.predict(X).reshape(-1, 1) for model in self.base_models])\n",
        "\n",
        "    def fit(self, X_train, y_train, X_hold, y_hold):\n",
        "        [model.fit(X_train, y_train) for model in self.base_models]\n",
        "        self.meta_model.fit(self.stack_predicts(X_hold), y_hold)\n",
        "\n",
        "    def predict(self, X_test):\n",
        "        return self.meta_model.predict(self.stack_predicts(X_test))"
      ],
      "metadata": {
        "id": "zaobpPF_-4Ls"
      },
      "execution_count": 36,
      "outputs": []
    },
    {
      "cell_type": "markdown",
      "source": [
        "Решение шаг 7"
      ],
      "metadata": {
        "id": "KVDDFI4IubtE"
      }
    },
    {
      "cell_type": "code",
      "source": [
        "from sklearn.linear_model import LinearRegression, LassoCV\n",
        "from sklearn.svm import SVR\n",
        "\n",
        "# Теперь обучи свой ансамбль и положи предсказания на X_holdout в переменную preds\n",
        "X_train, X_holdout, y_train, y_holdout = train_test_split(X, y, random_state=42, shuffle=True)\n",
        "\n",
        "base_models = [LinearRegression(), LassoCV(), SVR()]\n",
        "meta_model = Blender(base_models, LinearRegression())\n",
        "meta_model.fit(X_train, y_train, X_holdout, y_holdout)\n",
        "preds = meta_model.predict(X_holdout)"
      ],
      "metadata": {
        "id": "hAD-RH4JmtHJ"
      },
      "execution_count": 37,
      "outputs": []
    },
    {
      "cell_type": "markdown",
      "source": [
        "# Задача на 10-ом шаге урока"
      ],
      "metadata": {
        "id": "tp2kr4xK_Lgu"
      }
    },
    {
      "cell_type": "markdown",
      "source": [
        "**Пишем CV**"
      ],
      "metadata": {
        "id": "WhrgCYgKezLq"
      }
    },
    {
      "cell_type": "markdown",
      "source": [
        "Решение"
      ],
      "metadata": {
        "id": "R5CdnyXQyXj7"
      }
    },
    {
      "cell_type": "code",
      "source": [
        "def GetPreds(model, X, y, n_fold=5):\n",
        "    \"\"\"\n",
        "    :param model: имеет методы .fit(X, y) и .predict(X)\n",
        "    :param X: pd.DataFrame\n",
        "    :param y: np.array\n",
        "    :param n_fold: количество фолдов\n",
        "    :return: np.array\n",
        "    \"\"\"\n",
        "    folds = KFold(n_splits=n_fold)\n",
        "    preds = np.zeros(X.shape[0])\n",
        "\n",
        "    for train_idx, valid_idx in folds.split(X, y):\n",
        "        X_train, X_valid = X.iloc[train_idx], X.iloc[valid_idx]\n",
        "        y_train, y_valid = y[train_idx], y[valid_idx]\n",
        "\n",
        "        model.fit(X_train, y_train)\n",
        "        preds[valid_idx] = model.predict(X_valid).flatten()\n",
        "\n",
        "    return preds.reshape(-1, 1)"
      ],
      "metadata": {
        "id": "Ilf29skJ_G8E"
      },
      "execution_count": 38,
      "outputs": []
    },
    {
      "cell_type": "markdown",
      "source": [
        "Для тестирования функции можно использовать следующий код:"
      ],
      "metadata": {
        "id": "yoOagYj01tAb"
      }
    },
    {
      "cell_type": "code",
      "source": [
        "from sklearn import datasets\n",
        "from sklearn.linear_model import LinearRegression, Lasso\n",
        "from sklearn.svm import SVR\n",
        "\n",
        "X, y = datasets.load_diabetes(return_X_y=True)\n",
        "X = pd.DataFrame(X)\n",
        "\n",
        "base_models = [LinearRegression(), Lasso(), SVR()]\n",
        "for model in base_models:\n",
        "    GetPreds(model, X, y)"
      ],
      "metadata": {
        "id": "uFDd4LJ1-8he"
      },
      "execution_count": 39,
      "outputs": []
    },
    {
      "cell_type": "markdown",
      "source": [
        "# Задача на 11-ом шаге урока"
      ],
      "metadata": {
        "id": "XoxhPMZzHlNU"
      }
    },
    {
      "cell_type": "markdown",
      "source": [
        "**Добавляем X_test**"
      ],
      "metadata": {
        "id": "7SoeTlige84X"
      }
    },
    {
      "cell_type": "markdown",
      "source": [
        "Модифицируйте функцию из предыдущей задачи, чтобы она, помимо предсказаний на весь X, еще возвращала предсказания на X_test. Для того чтобы получить предсказания на X_test, обучите данную модель сразу на всей выборке."
      ],
      "metadata": {
        "id": "PJosWN074bZa"
      }
    },
    {
      "cell_type": "markdown",
      "source": [
        "Решение"
      ],
      "metadata": {
        "id": "SIB1wYbF22DM"
      }
    },
    {
      "cell_type": "markdown",
      "source": [
        "Для тестирования функции можно использовать следующий код:"
      ],
      "metadata": {
        "id": "G5bFHN3h4xEt"
      }
    },
    {
      "cell_type": "code",
      "source": [
        "def GetPreds(model, X, y, X_test, n_fold=5):\n",
        "    \"\"\"\n",
        "    :param model: имеет методы .fit(X, y) и .predict(X)\n",
        "    :param X: pd.DataFrame\n",
        "    :param y: np.array\n",
        "    :param X_test:  pd.DataFrame, для которого нужно сделать предсказания\n",
        "    :param n_fold: количество фолдов\n",
        "    :return: np.array, np.array\n",
        "    \"\"\"\n",
        "    folds = KFold(n_splits=n_fold)\n",
        "    preds = np.zeros(X.shape[0])\n",
        "\n",
        "    for train_idx, valid_idx in folds.split(X, y):\n",
        "        X_train, X_valid = X.iloc[train_idx], X.iloc[valid_idx]\n",
        "        y_train, y_valid = y[train_idx], y[valid_idx]\n",
        "\n",
        "        model.fit(X_train, y_train)\n",
        "        preds[valid_idx] = model.predict(X_valid).flatten()\n",
        "\n",
        "    model.fit(X, y)\n",
        "    test_preds = model.predict(X_test)\n",
        "\n",
        "    return preds.reshape(-1, 1), test_preds.reshape(-1, 1)"
      ],
      "metadata": {
        "id": "aPAAQYpZHwcE"
      },
      "execution_count": 40,
      "outputs": []
    },
    {
      "cell_type": "code",
      "source": [
        "from sklearn import datasets\n",
        "from sklearn.linear_model import LinearRegression, Lasso\n",
        "from sklearn.svm import SVR\n",
        "\n",
        "X, y = datasets.load_diabetes(return_X_y=True)\n",
        "X = pd.DataFrame(X)\n",
        "X_train, X_test, y_train, y_test = train_test_split(X, y, random_state=42, shuffle=True)\n",
        "\n",
        "base_models = [LinearRegression(), Lasso(), SVR()]\n",
        "for model in base_models:\n",
        "    GetPreds(model, X, y, X_test)"
      ],
      "metadata": {
        "id": "E-QPDeL522g-"
      },
      "execution_count": 41,
      "outputs": []
    }
  ]
}