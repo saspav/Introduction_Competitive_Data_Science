{
  "nbformat": 4,
  "nbformat_minor": 0,
  "metadata": {
    "colab": {
      "provenance": [],
      "gpuType": "T4",
      "include_colab_link": true
    },
    "kernelspec": {
      "display_name": "Python 3",
      "name": "python3"
    },
    "language_info": {
      "codemirror_mode": {
        "name": "ipython",
        "version": 3
      },
      "file_extension": ".py",
      "mimetype": "text/x-python",
      "name": "python",
      "nbconvert_exporter": "python",
      "pygments_lexer": "ipython3",
      "version": "3.7.4"
    },
    "toc": {
      "base_numbering": 1,
      "nav_menu": {},
      "number_sections": false,
      "sideBar": true,
      "skip_h1_title": false,
      "title_cell": "Table of Contents",
      "title_sidebar": "Contents",
      "toc_cell": false,
      "toc_position": {},
      "toc_section_display": true,
      "toc_window_display": false
    },
    "varInspector": {
      "cols": {
        "lenName": 16,
        "lenType": 16,
        "lenVar": 40
      },
      "kernels_config": {
        "python": {
          "delete_cmd_postfix": "",
          "delete_cmd_prefix": "del ",
          "library": "var_list.py",
          "varRefreshCmd": "print(var_dic_list())"
        },
        "r": {
          "delete_cmd_postfix": ") ",
          "delete_cmd_prefix": "rm(",
          "library": "var_list.r",
          "varRefreshCmd": "cat(var_dic_list()) "
        }
      },
      "types_to_exclude": [
        "module",
        "function",
        "builtin_function_or_method",
        "instance",
        "_Feature"
      ],
      "window_display": false
    },
    "accelerator": "GPU"
  },
  "cells": [
    {
      "cell_type": "markdown",
      "metadata": {
        "id": "view-in-github",
        "colab_type": "text"
      },
      "source": [
        "<a href=\"https://colab.research.google.com/github/saspav/Introduction_Competitive_Data_Science/blob/main/3_6_pos_tag.ipynb\" target=\"_parent\"><img src=\"https://colab.research.google.com/assets/colab-badge.svg\" alt=\"Open In Colab\"/></a>"
      ]
    },
    {
      "cell_type": "markdown",
      "metadata": {
        "id": "oMohh_6CwC4W"
      },
      "source": [
        "### Задача определения частей речи, Part-Of-Speech Tagger (POS)"
      ]
    },
    {
      "cell_type": "markdown",
      "metadata": {
        "id": "2Aad2tmBwC4Y"
      },
      "source": [
        "Мы будем решать задачу определения частей речи (POS-теггинга)."
      ]
    },
    {
      "cell_type": "code",
      "metadata": {
        "id": "gYYV0mdmwC4f",
        "scrolled": false
      },
      "source": [
        "import nltk\n",
        "import pandas as pd\n",
        "import numpy as np\n",
        "from nltk.corpus import brown\n",
        "import matplotlib.pyplot as plt"
      ],
      "execution_count": 1,
      "outputs": []
    },
    {
      "cell_type": "markdown",
      "metadata": {
        "id": "FPgI52lRwC4n"
      },
      "source": [
        "Вам в помощь http://www.nltk.org/book/"
      ]
    },
    {
      "cell_type": "markdown",
      "metadata": {
        "id": "hxdJxMEAwC4o"
      },
      "source": [
        "Загрузим brown корпус"
      ]
    },
    {
      "cell_type": "code",
      "metadata": {
        "id": "ZvhXAL_9wC4q",
        "scrolled": true,
        "colab": {
          "base_uri": "https://localhost:8080/"
        },
        "outputId": "e4665554-52bd-40c2-f9b8-7e79aa72f175"
      },
      "source": [
        "nltk.download('brown')"
      ],
      "execution_count": 2,
      "outputs": [
        {
          "output_type": "stream",
          "name": "stderr",
          "text": [
            "[nltk_data] Downloading package brown to /root/nltk_data...\n",
            "[nltk_data]   Unzipping corpora/brown.zip.\n"
          ]
        },
        {
          "output_type": "execute_result",
          "data": {
            "text/plain": [
              "True"
            ]
          },
          "metadata": {},
          "execution_count": 2
        }
      ]
    },
    {
      "cell_type": "markdown",
      "metadata": {
        "id": "wto8PSC6wC4v"
      },
      "source": [
        "<b>Существует не одна система тегирования, поэтому будьте внимательны, когда прогнозируете тег слов в тексте и вычисляете качество прогноза. Можете получить несправедливо низкое качество вашего решения."
      ]
    },
    {
      "cell_type": "markdown",
      "metadata": {
        "id": "eJ6tuHA_wC4z"
      },
      "source": [
        "Cейчас будем использовать универсальную систему тегирования universal_tagset"
      ]
    },
    {
      "cell_type": "code",
      "metadata": {
        "id": "Cht7dImWwC42",
        "colab": {
          "base_uri": "https://localhost:8080/"
        },
        "outputId": "3fdaca86-6306-4ef0-bd26-6f5f492351ee"
      },
      "source": [
        "nltk.download('universal_tagset')"
      ],
      "execution_count": 3,
      "outputs": [
        {
          "output_type": "stream",
          "name": "stderr",
          "text": [
            "[nltk_data] Downloading package universal_tagset to /root/nltk_data...\n",
            "[nltk_data]   Unzipping taggers/universal_tagset.zip.\n"
          ]
        },
        {
          "output_type": "execute_result",
          "data": {
            "text/plain": [
              "True"
            ]
          },
          "metadata": {},
          "execution_count": 3
        }
      ]
    },
    {
      "cell_type": "markdown",
      "metadata": {
        "id": "IiTimRRywC47"
      },
      "source": [
        "<img src=\"https://4.bp.blogspot.com/-IcFli2wljs0/WrVCw3umY_I/AAAAAAAACYM/UJ_neoUAs3wF95dj2Ouf3BzxXzB_b2TbQCLcBGAs/s1600/postags.png\">\n"
      ]
    },
    {
      "cell_type": "markdown",
      "metadata": {
        "id": "iyDBMcBSwC48"
      },
      "source": [
        "Мы имеем массив предложений пар (слово-тег)"
      ]
    },
    {
      "cell_type": "code",
      "metadata": {
        "id": "BobflewQwC4-",
        "scrolled": false,
        "colab": {
          "base_uri": "https://localhost:8080/"
        },
        "outputId": "971cb85d-2eb2-4a74-d3ce-7f04ff1ba0d6"
      },
      "source": [
        "brown_tagged_sents = brown.tagged_sents(tagset=\"universal\")\n",
        "brown_tagged_sents"
      ],
      "execution_count": 4,
      "outputs": [
        {
          "output_type": "execute_result",
          "data": {
            "text/plain": [
              "[[('The', 'DET'), ('Fulton', 'NOUN'), ('County', 'NOUN'), ('Grand', 'ADJ'), ('Jury', 'NOUN'), ('said', 'VERB'), ('Friday', 'NOUN'), ('an', 'DET'), ('investigation', 'NOUN'), ('of', 'ADP'), (\"Atlanta's\", 'NOUN'), ('recent', 'ADJ'), ('primary', 'NOUN'), ('election', 'NOUN'), ('produced', 'VERB'), ('``', '.'), ('no', 'DET'), ('evidence', 'NOUN'), (\"''\", '.'), ('that', 'ADP'), ('any', 'DET'), ('irregularities', 'NOUN'), ('took', 'VERB'), ('place', 'NOUN'), ('.', '.')], [('The', 'DET'), ('jury', 'NOUN'), ('further', 'ADV'), ('said', 'VERB'), ('in', 'ADP'), ('term-end', 'NOUN'), ('presentments', 'NOUN'), ('that', 'ADP'), ('the', 'DET'), ('City', 'NOUN'), ('Executive', 'ADJ'), ('Committee', 'NOUN'), (',', '.'), ('which', 'DET'), ('had', 'VERB'), ('over-all', 'ADJ'), ('charge', 'NOUN'), ('of', 'ADP'), ('the', 'DET'), ('election', 'NOUN'), (',', '.'), ('``', '.'), ('deserves', 'VERB'), ('the', 'DET'), ('praise', 'NOUN'), ('and', 'CONJ'), ('thanks', 'NOUN'), ('of', 'ADP'), ('the', 'DET'), ('City', 'NOUN'), ('of', 'ADP'), ('Atlanta', 'NOUN'), (\"''\", '.'), ('for', 'ADP'), ('the', 'DET'), ('manner', 'NOUN'), ('in', 'ADP'), ('which', 'DET'), ('the', 'DET'), ('election', 'NOUN'), ('was', 'VERB'), ('conducted', 'VERB'), ('.', '.')], ...]"
            ]
          },
          "metadata": {},
          "execution_count": 4
        }
      ]
    },
    {
      "cell_type": "markdown",
      "metadata": {
        "id": "jSu1KqRrwC5L"
      },
      "source": [
        "Первое предложение"
      ]
    },
    {
      "cell_type": "code",
      "metadata": {
        "id": "zCHCZPlkwC5N",
        "colab": {
          "base_uri": "https://localhost:8080/"
        },
        "outputId": "b73b49ea-dead-4f03-963d-90c673f849a4"
      },
      "source": [
        "brown_tagged_sents[0]"
      ],
      "execution_count": 5,
      "outputs": [
        {
          "output_type": "execute_result",
          "data": {
            "text/plain": [
              "[('The', 'DET'),\n",
              " ('Fulton', 'NOUN'),\n",
              " ('County', 'NOUN'),\n",
              " ('Grand', 'ADJ'),\n",
              " ('Jury', 'NOUN'),\n",
              " ('said', 'VERB'),\n",
              " ('Friday', 'NOUN'),\n",
              " ('an', 'DET'),\n",
              " ('investigation', 'NOUN'),\n",
              " ('of', 'ADP'),\n",
              " (\"Atlanta's\", 'NOUN'),\n",
              " ('recent', 'ADJ'),\n",
              " ('primary', 'NOUN'),\n",
              " ('election', 'NOUN'),\n",
              " ('produced', 'VERB'),\n",
              " ('``', '.'),\n",
              " ('no', 'DET'),\n",
              " ('evidence', 'NOUN'),\n",
              " (\"''\", '.'),\n",
              " ('that', 'ADP'),\n",
              " ('any', 'DET'),\n",
              " ('irregularities', 'NOUN'),\n",
              " ('took', 'VERB'),\n",
              " ('place', 'NOUN'),\n",
              " ('.', '.')]"
            ]
          },
          "metadata": {},
          "execution_count": 5
        }
      ]
    },
    {
      "cell_type": "markdown",
      "metadata": {
        "id": "SIV2MiRxwC5Q"
      },
      "source": [
        "Все пары (слово-тег)"
      ]
    },
    {
      "cell_type": "code",
      "metadata": {
        "id": "dVx9e9HcwC5R",
        "colab": {
          "base_uri": "https://localhost:8080/"
        },
        "outputId": "91c85dfb-c930-4a28-cf04-df483a59abc4"
      },
      "source": [
        "brown_tagged_words = brown.tagged_words(tagset='universal')\n",
        "brown_tagged_words"
      ],
      "execution_count": 6,
      "outputs": [
        {
          "output_type": "execute_result",
          "data": {
            "text/plain": [
              "[('The', 'DET'), ('Fulton', 'NOUN'), ...]"
            ]
          },
          "metadata": {},
          "execution_count": 6
        }
      ]
    },
    {
      "cell_type": "markdown",
      "metadata": {
        "id": "y-ADby6LwC5V"
      },
      "source": [
        "Проанализируйте данные, с которыми Вы работаете. Используйте `nltk.FreqDist()` для подсчета частоты встречаемости тега и слова в нашем корпусе. Под частой элемента подразумевается кол-во этого элемента в корпусе."
      ]
    },
    {
      "cell_type": "code",
      "metadata": {
        "scrolled": false,
        "id": "JzRoXuKFcMZK"
      },
      "source": [
        "# Приведем слова к нижнему регистру\n",
        "brown_tagged_words = list(map(lambda x: (x[0].lower(), x[1]), brown_tagged_words))"
      ],
      "execution_count": 7,
      "outputs": []
    },
    {
      "cell_type": "code",
      "metadata": {
        "id": "4giWaqXjwC5W",
        "colab": {
          "base_uri": "https://localhost:8080/"
        },
        "outputId": "81633b00-5049-46fa-9832-cacc48be442c"
      },
      "source": [
        "print('Кол-во предложений: ', len(brown_tagged_sents))\n",
        "tags = [tag for (word, tag) in brown_tagged_words] # наши теги\n",
        "words = [word for (word, tag) in brown_tagged_words] # наши слова\n",
        "\n",
        "# Подсчет частот тегов и слов\n",
        "tag_num = pd.Series(nltk.FreqDist(tags)).sort_values(ascending=False)  # Частота тегов\n",
        "word_num = pd.Series(nltk.FreqDist(words)).sort_values(ascending=False)  # Частота слов\n",
        "\n",
        "print(\"Частота тегов:\\n\", tag_num.head())\n",
        "print(\"\\nЧастота слов:\\n\", word_num.head())"
      ],
      "execution_count": 8,
      "outputs": [
        {
          "output_type": "stream",
          "name": "stdout",
          "text": [
            "Кол-во предложений:  57340\n",
            "Частота тегов:\n",
            " NOUN    275558\n",
            "VERB    182750\n",
            ".       147565\n",
            "ADP     144766\n",
            "DET     137019\n",
            "dtype: int64\n",
            "\n",
            "Частота слов:\n",
            " the    69971\n",
            ",      58334\n",
            ".      49346\n",
            "of     36412\n",
            "and    28853\n",
            "dtype: int64\n"
          ]
        }
      ]
    },
    {
      "cell_type": "code",
      "metadata": {
        "id": "yfiPpCcLwC5Z",
        "scrolled": true,
        "colab": {
          "base_uri": "https://localhost:8080/",
          "height": 460
        },
        "outputId": "5cd0f774-de01-4d76-d48a-bfc7b2173988"
      },
      "source": [
        "tag_num"
      ],
      "execution_count": 9,
      "outputs": [
        {
          "output_type": "execute_result",
          "data": {
            "text/plain": [
              "NOUN    275558\n",
              "VERB    182750\n",
              ".       147565\n",
              "ADP     144766\n",
              "DET     137019\n",
              "ADJ      83721\n",
              "ADV      56239\n",
              "PRON     49334\n",
              "CONJ     38151\n",
              "PRT      29829\n",
              "NUM      14874\n",
              "X         1386\n",
              "dtype: int64"
            ],
            "text/html": [
              "<div>\n",
              "<style scoped>\n",
              "    .dataframe tbody tr th:only-of-type {\n",
              "        vertical-align: middle;\n",
              "    }\n",
              "\n",
              "    .dataframe tbody tr th {\n",
              "        vertical-align: top;\n",
              "    }\n",
              "\n",
              "    .dataframe thead th {\n",
              "        text-align: right;\n",
              "    }\n",
              "</style>\n",
              "<table border=\"1\" class=\"dataframe\">\n",
              "  <thead>\n",
              "    <tr style=\"text-align: right;\">\n",
              "      <th></th>\n",
              "      <th>0</th>\n",
              "    </tr>\n",
              "  </thead>\n",
              "  <tbody>\n",
              "    <tr>\n",
              "      <th>NOUN</th>\n",
              "      <td>275558</td>\n",
              "    </tr>\n",
              "    <tr>\n",
              "      <th>VERB</th>\n",
              "      <td>182750</td>\n",
              "    </tr>\n",
              "    <tr>\n",
              "      <th>.</th>\n",
              "      <td>147565</td>\n",
              "    </tr>\n",
              "    <tr>\n",
              "      <th>ADP</th>\n",
              "      <td>144766</td>\n",
              "    </tr>\n",
              "    <tr>\n",
              "      <th>DET</th>\n",
              "      <td>137019</td>\n",
              "    </tr>\n",
              "    <tr>\n",
              "      <th>ADJ</th>\n",
              "      <td>83721</td>\n",
              "    </tr>\n",
              "    <tr>\n",
              "      <th>ADV</th>\n",
              "      <td>56239</td>\n",
              "    </tr>\n",
              "    <tr>\n",
              "      <th>PRON</th>\n",
              "      <td>49334</td>\n",
              "    </tr>\n",
              "    <tr>\n",
              "      <th>CONJ</th>\n",
              "      <td>38151</td>\n",
              "    </tr>\n",
              "    <tr>\n",
              "      <th>PRT</th>\n",
              "      <td>29829</td>\n",
              "    </tr>\n",
              "    <tr>\n",
              "      <th>NUM</th>\n",
              "      <td>14874</td>\n",
              "    </tr>\n",
              "    <tr>\n",
              "      <th>X</th>\n",
              "      <td>1386</td>\n",
              "    </tr>\n",
              "  </tbody>\n",
              "</table>\n",
              "</div><br><label><b>dtype:</b> int64</label>"
            ]
          },
          "metadata": {},
          "execution_count": 9
        }
      ]
    },
    {
      "cell_type": "code",
      "metadata": {
        "id": "8Y1huw7TwC5b",
        "colab": {
          "base_uri": "https://localhost:8080/",
          "height": 468
        },
        "outputId": "956b68a8-a88c-4a2f-b584-2497244865c5"
      },
      "source": [
        "plt.figure(figsize=(12, 5))\n",
        "plt.bar(tag_num.index, tag_num.values)\n",
        "plt.title(\"Tag_frequency\")\n",
        "plt.show()"
      ],
      "execution_count": 10,
      "outputs": [
        {
          "output_type": "display_data",
          "data": {
            "text/plain": [
              "<Figure size 1200x500 with 1 Axes>"
            ],
            "image/png": "[encoded data removed]"
          },
          "metadata": {}
        }
      ]
    },
    {
      "cell_type": "code",
      "metadata": {
        "id": "gBbhnJsmwC5f",
        "colab": {
          "base_uri": "https://localhost:8080/",
          "height": 241
        },
        "outputId": "ab1df0c7-52d6-4c6f-91d0-fd2c9b7b7211"
      },
      "source": [
        "word_num[:5]"
      ],
      "execution_count": 11,
      "outputs": [
        {
          "output_type": "execute_result",
          "data": {
            "text/plain": [
              "the    69971\n",
              ",      58334\n",
              ".      49346\n",
              "of     36412\n",
              "and    28853\n",
              "dtype: int64"
            ],
            "text/html": [
              "<div>\n",
              "<style scoped>\n",
              "    .dataframe tbody tr th:only-of-type {\n",
              "        vertical-align: middle;\n",
              "    }\n",
              "\n",
              "    .dataframe tbody tr th {\n",
              "        vertical-align: top;\n",
              "    }\n",
              "\n",
              "    .dataframe thead th {\n",
              "        text-align: right;\n",
              "    }\n",
              "</style>\n",
              "<table border=\"1\" class=\"dataframe\">\n",
              "  <thead>\n",
              "    <tr style=\"text-align: right;\">\n",
              "      <th></th>\n",
              "      <th>0</th>\n",
              "    </tr>\n",
              "  </thead>\n",
              "  <tbody>\n",
              "    <tr>\n",
              "      <th>the</th>\n",
              "      <td>69971</td>\n",
              "    </tr>\n",
              "    <tr>\n",
              "      <th>,</th>\n",
              "      <td>58334</td>\n",
              "    </tr>\n",
              "    <tr>\n",
              "      <th>.</th>\n",
              "      <td>49346</td>\n",
              "    </tr>\n",
              "    <tr>\n",
              "      <th>of</th>\n",
              "      <td>36412</td>\n",
              "    </tr>\n",
              "    <tr>\n",
              "      <th>and</th>\n",
              "      <td>28853</td>\n",
              "    </tr>\n",
              "  </tbody>\n",
              "</table>\n",
              "</div><br><label><b>dtype:</b> int64</label>"
            ]
          },
          "metadata": {},
          "execution_count": 11
        }
      ]
    },
    {
      "cell_type": "code",
      "metadata": {
        "id": "1WmEOBMkwC5i",
        "colab": {
          "base_uri": "https://localhost:8080/",
          "height": 468
        },
        "outputId": "eec16e10-127a-4636-8018-94d44124dae8"
      },
      "source": [
        "plt.figure(figsize=(12, 5))\n",
        "plt.bar(word_num.index[:10], word_num.values[:10])\n",
        "plt.title(\"Word_frequency\")\n",
        "plt.show()"
      ],
      "execution_count": 12,
      "outputs": [
        {
          "output_type": "display_data",
          "data": {
            "text/plain": [
              "<Figure size 1200x500 with 1 Axes>"
            ],
            "image/png": "[encoded data removed]"
          },
          "metadata": {}
        }
      ]
    },
    {
      "cell_type": "markdown",
      "metadata": {
        "id": "n08z2PjMwC5o"
      },
      "source": [
        "### Вопрос 1:\n",
        "* Кол-во слова `cat` в корпусе? **(0.5 балл)**"
      ]
    },
    {
      "cell_type": "code",
      "metadata": {
        "id": "jhB7di3YwC5p",
        "colab": {
          "base_uri": "https://localhost:8080/"
        },
        "outputId": "33cedca8-9688-4ec4-f486-4536b54bae6e"
      },
      "source": [
        "print('Кол-во слова \"cat\" в корпусе:', word_num.loc['cat'])"
      ],
      "execution_count": 13,
      "outputs": [
        {
          "output_type": "stream",
          "name": "stdout",
          "text": [
            "Кол-во слова \"cat\" в корпусе: 23\n"
          ]
        }
      ]
    },
    {
      "cell_type": "markdown",
      "metadata": {
        "id": "UsCfVLsewC5s"
      },
      "source": [
        "### Вопрос 2:\n",
        "* Самое популярное слово с самым популярным тегом? **(0.5 балл)**\n"
      ]
    },
    {
      "cell_type": "code",
      "metadata": {
        "id": "oio-XBYkwC5t",
        "colab": {
          "base_uri": "https://localhost:8080/"
        },
        "outputId": "1494477c-4927-4d8c-fa60-0fa8b38a22b8"
      },
      "source": [
        "# Выбираем сначала слова с самым популярным тегом, а затем среди них выбираем самое популярное слово.\n",
        "tag_max = tag_num.idxmax()\n",
        "words_max_tag = [word for (word, tag) in brown_tagged_words if tag == tag_max]\n",
        "words_nums = pd.Series(nltk.FreqDist(words_max_tag)).sort_values(ascending=False)  # Частота слов\n",
        "print(f'Самое популярное слово \"{words_nums.idxmax()}\" с самым популярным тегом \"{tag_max}\"')"
      ],
      "execution_count": 14,
      "outputs": [
        {
          "output_type": "stream",
          "name": "stdout",
          "text": [
            "Самое популярное слово \"time\" с самым популярным тегом \"NOUN\"\n"
          ]
        }
      ]
    },
    {
      "cell_type": "markdown",
      "metadata": {
        "id": "_f1rl5x0wC55"
      },
      "source": [
        "Cделайте разбиение выборки на обучение и контроль в отношении 9:1. **(0.5 балл)**"
      ]
    },
    {
      "cell_type": "code",
      "source": [
        "from sklearn.model_selection import train_test_split"
      ],
      "metadata": {
        "id": "K2DBlgAHYPOn"
      },
      "execution_count": 15,
      "outputs": []
    },
    {
      "cell_type": "code",
      "metadata": {
        "id": "GX9t-1qowC58"
      },
      "source": [
        "brown_tagged_sents = brown.tagged_sents(tagset=\"universal\")\n",
        "# Приведем слова к нижнему регистру\n",
        "my_brown_tagged_sents = []\n",
        "for sent in brown_tagged_sents:\n",
        "    my_brown_tagged_sents.append(list(map(lambda x: (x[0].lower(), x[1]), sent)))\n",
        "\n",
        "# my_brown_tagged_sents = np.array(my_brown_tagged_sents)\n",
        "\n",
        "train_sents, test_sents = train_test_split(my_brown_tagged_sents, test_size=0.1, random_state=0,)"
      ],
      "execution_count": 16,
      "outputs": []
    },
    {
      "cell_type": "code",
      "metadata": {
        "id": "pXkVwUjYwC5-",
        "colab": {
          "base_uri": "https://localhost:8080/"
        },
        "outputId": "ca0a149a-7a64-4765-b6fa-02e3cd3881e6"
      },
      "source": [
        "len(train_sents), len(test_sents)"
      ],
      "execution_count": 17,
      "outputs": [
        {
          "output_type": "execute_result",
          "data": {
            "text/plain": [
              "(51606, 5734)"
            ]
          },
          "metadata": {},
          "execution_count": 17
        }
      ]
    },
    {
      "cell_type": "markdown",
      "metadata": {
        "id": "FpAgfZRTwC6h"
      },
      "source": [
        "## DefaultTagger"
      ]
    },
    {
      "cell_type": "markdown",
      "metadata": {
        "id": "9b4cPKyiwC6j"
      },
      "source": [
        "### Вопрос 3:\n",
        "* Какое качество вы бы получили, если бы предсказывали любой тег, как самый популярный тег на выборке train(округлите до одного знака после запятой)? **(0.5 балл)**"
      ]
    },
    {
      "cell_type": "markdown",
      "metadata": {
        "id": "Td-0Pe0vwC6k"
      },
      "source": [
        "Вы можете использовать DefaultTagger(метод tag для предсказания частей речи предложения)."
      ]
    },
    {
      "cell_type": "code",
      "metadata": {
        "id": "NfZYlMxJwC6m",
        "colab": {
          "base_uri": "https://localhost:8080/"
        },
        "outputId": "629363ae-0a55-459f-ff40-cf96b275123c"
      },
      "source": [
        "from nltk.tag import DefaultTagger\n",
        "\n",
        "# Находим самый частотный тег в train_sents\n",
        "train_tags = [tag for sent in train_sents for _, tag in sent]\n",
        "most_common_tag = nltk.FreqDist(train_tags).max()\n",
        "\n",
        "# Создаём DefaultTagger\n",
        "default_tagger = DefaultTagger(most_common_tag)\n",
        "\n",
        "# Оцениваем точность на test_sents\n",
        "accuracy = default_tagger.accuracy(test_sents)\n",
        "\n",
        "print(f\"Самый популярный тег: {most_common_tag}\")\n",
        "print(f\"Точность DefaultTagger: {accuracy:.1%}\")"
      ],
      "execution_count": 18,
      "outputs": [
        {
          "output_type": "stream",
          "name": "stdout",
          "text": [
            "Самый популярный тег: NOUN\n",
            "Точность DefaultTagger: 23.5%\n"
          ]
        }
      ]
    },
    {
      "cell_type": "code",
      "metadata": {
        "id": "9CXKibo_cMcB",
        "colab": {
          "base_uri": "https://localhost:8080/"
        },
        "outputId": "dfa6da9c-47f3-48b8-a55f-6f4278e21939"
      },
      "source": [
        "true_pred = 0\n",
        "num_pred = 0\n",
        "\n",
        "for sent in test_sents:\n",
        "    tags = np.array([tag for (word, tag) in sent])\n",
        "    words = np.array([word for (word, tag) in sent])\n",
        "\n",
        "    tagged_sent = default_tagger.tag(words)\n",
        "    outputs = [tag for token, tag in tagged_sent]\n",
        "\n",
        "    true_pred += np.sum(tags == outputs)  # Количество правильных предсказаний\n",
        "    num_pred += len(words)\n",
        "\n",
        "print(f\"Accuracy: {true_pred / num_pred:.1%}\")"
      ],
      "execution_count": 19,
      "outputs": [
        {
          "output_type": "stream",
          "name": "stdout",
          "text": [
            "Accuracy: 23.5%\n"
          ]
        }
      ]
    },
    {
      "cell_type": "markdown",
      "metadata": {
        "id": "5w1W5hSkcMcV"
      },
      "source": [
        "## LSTMTagger"
      ]
    },
    {
      "cell_type": "markdown",
      "metadata": {
        "id": "mm1-S3t2cMcW"
      },
      "source": [
        "### Подготовка данных"
      ]
    },
    {
      "cell_type": "markdown",
      "metadata": {
        "id": "GayTl7mUcMcX"
      },
      "source": [
        "Изменим структуру данных"
      ]
    },
    {
      "cell_type": "code",
      "metadata": {
        "id": "CnXcI64fxoj4",
        "scrolled": false
      },
      "source": [
        "pos_data = [[(word.lower(), tag) for word, tag in sent] for sent in brown_tagged_sents]"
      ],
      "execution_count": 20,
      "outputs": []
    },
    {
      "cell_type": "code",
      "source": [
        "print(pos_data[-1])"
      ],
      "metadata": {
        "colab": {
          "base_uri": "https://localhost:8080/"
        },
        "id": "JaWBHi7M3xd1",
        "outputId": "04a7d56b-6583-4d58-e273-142a0e8e911b"
      },
      "execution_count": 21,
      "outputs": [
        {
          "output_type": "stream",
          "name": "stdout",
          "text": [
            "[('from', 'ADP'), ('what', 'DET'), ('i', 'PRON'), ('was', 'VERB'), ('able', 'ADJ'), ('to', 'ADP'), ('gauge', 'NOUN'), ('in', 'ADP'), ('a', 'DET'), ('swift', 'ADJ'), (',', '.'), ('greedy', 'ADJ'), ('glance', 'NOUN'), (',', '.'), ('the', 'DET'), ('figure', 'NOUN'), ('inside', 'ADP'), ('the', 'DET'), ('coral-colored', 'ADJ'), ('boucle', 'NOUN'), ('dress', 'NOUN'), ('was', 'VERB'), ('stupefying', 'VERB'), ('.', '.')]\n"
          ]
        }
      ]
    },
    {
      "cell_type": "markdown",
      "metadata": {
        "id": "DpRE3c-3cMcc"
      },
      "source": [
        "Пора эксплуатировать pytorch!"
      ]
    },
    {
      "cell_type": "code",
      "source": [
        "!pip install torch==2.2.2 torchtext==0.17.2 -q"
      ],
      "metadata": {
        "id": "GkgUFfyxaWra"
      },
      "execution_count": 70,
      "outputs": []
    },
    {
      "cell_type": "code",
      "source": [
        "import torch\n",
        "\n",
        "print(torch.__version__)"
      ],
      "metadata": {
        "colab": {
          "base_uri": "https://localhost:8080/"
        },
        "id": "PmrsHi8mybkf",
        "outputId": "c13d7e2c-e343-4f5b-e05b-91c42a8aef64"
      },
      "execution_count": 71,
      "outputs": [
        {
          "output_type": "stream",
          "name": "stdout",
          "text": [
            "2.2.2+cu121\n"
          ]
        }
      ]
    },
    {
      "cell_type": "code",
      "source": [
        "import torchtext\n",
        "\n",
        "print(torchtext.__version__)"
      ],
      "metadata": {
        "colab": {
          "base_uri": "https://localhost:8080/"
        },
        "id": "_brnPIDsyVTX",
        "outputId": "d0f34f75-de20-4ec5-8ec0-ef13942bf720"
      },
      "execution_count": 72,
      "outputs": [
        {
          "output_type": "stream",
          "name": "stdout",
          "text": [
            "0.17.2+cpu\n"
          ]
        }
      ]
    },
    {
      "cell_type": "code",
      "source": [
        "import torch\n",
        "from torch.utils.data import Dataset, DataLoader\n",
        "from torchtext.vocab import build_vocab_from_iterator\n",
        "from torch.nn.utils.rnn import pad_sequence\n",
        "\n",
        "\n",
        "pos_data = [[(word.lower(), tag) for word, tag in sent] for sent in brown_tagged_sents]\n",
        "\n",
        "# Функция для генерации токенов слов для создания словаря\n",
        "def yield_tokens(data):\n",
        "    for sentence in data:\n",
        "        words = [word for word, _ in sentence]  # Извлекаем слова\n",
        "        yield words  # Передаём список слов\n",
        "\n",
        "# Функция для генерации тегов\n",
        "def yield_tags(data):\n",
        "    for sentence in data:\n",
        "        tags = [tag for _, tag in sentence]  # Извлекаем теги\n",
        "        yield tags\n",
        "\n",
        "# Создание словаря слов и тегов\n",
        "word_vocab = build_vocab_from_iterator(yield_tokens(pos_data), specials=[\"<pad>\", \"<unk>\"])\n",
        "word_vocab.set_default_index(word_vocab[\"<unk>\"])\n",
        "\n",
        "tag_vocab = build_vocab_from_iterator(yield_tags(pos_data), specials=[\"<pad>\"])\n",
        "tag_vocab.set_default_index(tag_vocab[\"<pad>\"])\n",
        "\n",
        "# Определяем Dataset\n",
        "class PosDataset(Dataset):\n",
        "    def __init__(self, pos_data, word_vocab, tag_vocab):\n",
        "        self.pos_data = pos_data\n",
        "        self.word_vocab = word_vocab\n",
        "        self.tag_vocab = tag_vocab\n",
        "\n",
        "    def __len__(self):\n",
        "        return len(self.pos_data)\n",
        "\n",
        "    def __getitem__(self, idx):\n",
        "        words, tags = zip(*self.pos_data[idx])  # Распаковываем слова и теги\n",
        "        word_tensor = torch.tensor([self.word_vocab[word] for word in words], dtype=torch.long)\n",
        "        tag_tensor = torch.tensor([self.tag_vocab[tag] for tag in tags], dtype=torch.long)\n",
        "        return word_tensor, tag_tensor  # Возвращаем кортеж (слова, теги)\n",
        "\n",
        "# Создание датасета\n",
        "dataset = PosDataset(pos_data, word_vocab, tag_vocab)\n",
        "\n",
        "# Функция для паддинга батчей\n",
        "def collate_fn(batch):\n",
        "    # Проверка на пустой или некорректный батч\n",
        "    if len(batch[0]) != 2:\n",
        "        print(\"Warning: Incorrect batch format:\", batch)\n",
        "        return None  # Или обработайте ошибку по-своему\n",
        "\n",
        "    words, tags = zip(*batch)  # Разделяем слова и теги\n",
        "    words_padded = pad_sequence(words, batch_first=True, padding_value=word_vocab[\"<pad>\"])\n",
        "    tags_padded = pad_sequence(tags, batch_first=True, padding_value=tag_vocab[\"<pad>\"])\n",
        "    return words_padded, tags_padded\n",
        "\n",
        "\n",
        "# Разбиваем данные на train, valid, test\n",
        "train_size = int(0.8 * len(dataset))\n",
        "valid_size = int(0.1 * len(dataset))\n",
        "test_size = len(dataset) - train_size - valid_size\n",
        "\n",
        "train_data, valid_data, test_data = torch.utils.data.random_split(dataset, [train_size, valid_size, test_size])\n",
        "\n",
        "# Создание DataLoader\n",
        "train_loader = DataLoader(train_data, batch_size=32, shuffle=True, collate_fn=collate_fn)\n",
        "valid_loader = DataLoader(valid_data, batch_size=32, shuffle=False, collate_fn=collate_fn)\n",
        "test_loader = DataLoader(test_data, batch_size=32, shuffle=False, collate_fn=collate_fn)\n",
        "\n",
        "# Проверяем данные\n",
        "print(f\"Number of training examples: {len(train_data)}\")\n",
        "print(f\"Number of validation examples: {len(valid_data)}\")\n",
        "print(f\"Number of testing examples: {len(test_data)}\")\n",
        "\n",
        "# Проверяем батч из train_loader\n",
        "for batch in train_loader:\n",
        "    print('batch:', batch)\n",
        "    words, tags = batch\n",
        "    print(f\"Words batch shape: {words.shape}\")\n",
        "    print(f\"Tags batch shape: {tags.shape}\")\n",
        "    break"
      ],
      "metadata": {
        "colab": {
          "base_uri": "https://localhost:8080/"
        },
        "id": "c1ZmmEiE0muK",
        "outputId": "4cdba7b5-837b-476e-96d2-52795bf00b9e"
      },
      "execution_count": 25,
      "outputs": [
        {
          "output_type": "stream",
          "name": "stdout",
          "text": [
            "Number of training examples: 45872\n",
            "Number of validation examples: 5734\n",
            "Number of testing examples: 5734\n",
            "batch: (tensor([[   32,     2,  2617,  ...,     0,     0,     0],\n",
            "        [    8,  2377,  4458,  ...,     0,     0,     0],\n",
            "        [  865,  2170, 39296,  ...,     0,     0,     0],\n",
            "        ...,\n",
            "        [    2,   655,  1375,  ...,     0,     0,     0],\n",
            "        [    8,  2091,  3024,  ...,     0,     0,     0],\n",
            "        [  112,     3,    96,  ...,     0,     0,     0]]), tensor([[ 9,  5,  1,  ...,  0,  0,  0],\n",
            "        [ 5,  6,  1,  ...,  0,  0,  0],\n",
            "        [ 1,  1,  1,  ...,  0,  0,  0],\n",
            "        ...,\n",
            "        [ 5,  6,  1,  ...,  0,  0,  0],\n",
            "        [ 5,  6,  1,  ...,  0,  0,  0],\n",
            "        [10,  3,  6,  ...,  0,  0,  0]]))\n",
            "Words batch shape: torch.Size([32, 63])\n",
            "Tags batch shape: torch.Size([32, 63])\n"
          ]
        }
      ]
    },
    {
      "cell_type": "markdown",
      "metadata": {
        "id": "T89unpppcMcp"
      },
      "source": [
        "Построим словари. Параметр `min_freq` выберете сами. При построении словаря испольузем только **train** **(0.5 балл)**"
      ]
    },
    {
      "cell_type": "code",
      "source": [
        "from torchtext.vocab import build_vocab_from_iterator\n",
        "\n",
        "# Определяем порог частоты\n",
        "MIN_FREQ = 3  # Можно изменить значение\n",
        "\n",
        "# Функция для генерации токенов слов для создания словаря\n",
        "def yield_tokens(data):\n",
        "    for sentence in data:\n",
        "        words = [word for word, _ in sentence]  # Извлекаем слова\n",
        "        yield words\n",
        "\n",
        "# Функция для генерации тегов\n",
        "def yield_tags(data):\n",
        "    for sentence in data:\n",
        "        tags = [tag for _, tag in sentence]  # Извлекаем теги\n",
        "        yield tags\n",
        "\n",
        "# Строим словари только по train_data\n",
        "train_sentences = [pos_data[idx] for idx in train_data.indices]  # Достаём предложения из train\n",
        "\n",
        "word_vocab = build_vocab_from_iterator(yield_tokens(train_sentences), specials=[\"<pad>\", \"<unk>\"], min_freq=MIN_FREQ)\n",
        "word_vocab.set_default_index(word_vocab[\"<unk>\"])\n",
        "\n",
        "tag_vocab = build_vocab_from_iterator(yield_tags(train_sentences), specials=[\"<pad>\"])\n",
        "tag_vocab.set_default_index(tag_vocab[\"<pad>\"])\n",
        "\n",
        "# Вывод информации о словарях\n",
        "print(f\"Unique tokens in source (words) vocabulary: {len(word_vocab)}\")\n",
        "print(f\"Unique tokens in target (tags) vocabulary: {len(tag_vocab)}\")\n",
        "\n",
        "# Проверяем редкие слова\n",
        "print(word_vocab.get_itos()[::200])  # Каждое 200-е слово\n",
        "print(tag_vocab.get_itos())  # Все уникальные теги\n"
      ],
      "metadata": {
        "colab": {
          "base_uri": "https://localhost:8080/"
        },
        "id": "sV9ibOvf5EHf",
        "outputId": "5ef55817-c315-4881-a5f3-827926ac7aca"
      },
      "execution_count": 26,
      "outputs": [
        {
          "output_type": "stream",
          "name": "stdout",
          "text": [
            "Unique tokens in source (words) vocabulary: 18078\n",
            "Unique tokens in target (tags) vocabulary: 13\n",
            "['<pad>', 'war', 'available', 'u.s.', 'spring', 'determine', 'shape', 'twice', 'proved', 'slow', 'judgment', 'prior', 'foundation', 'crossed', 'measures', 'depending', 'constitute', 'atlanta', 'outer', 'calendar', 'newly', 'wake', 'asleep', 'acceptable', 'tie', 'protest', 'loudly', 'devote', 'taxi', 'irrelevant', 'authentic', 'moderate', 'anthony', 'inning', 'verdict', 'fifties', 'quantities', 'boulder', 'howe', 'riverside', 'barbed', 'ferry', 'patriot', 'undergraduates', 'chester', 'franks', 'muttering', 'simulated', '7:30', 'concealed', 'focusing', 'luis', 'radios', 'swedish', 'abraham', 'capillary', 'dividend', 'gyp', 'logs', 'perfected', 'scepticism', 'torquer', '5000', 'beardens', 'collects', 'downhill', 'furnishing', 'inhibited', 'merry', 'periodical', 'rh', 'sprayed', 'twilight', '168', 'apex', 'bowing', 'collaborators', 'decaying', 'eighty-three', 'flapping', 'h.m.s.', 'injunction', 'lightweight', 'molten', 'oversimplified', 'profitably', 'retrograde', 'shriveled', 'styled', 'truce', \"watson's\"]\n",
            "['<pad>', 'NOUN', 'VERB', '.', 'ADP', 'DET', 'ADJ', 'ADV', 'PRON', 'CONJ', 'PRT', 'NUM', 'X']\n"
          ]
        }
      ]
    },
    {
      "cell_type": "markdown",
      "metadata": {
        "id": "ESwY5AZ9QKiv"
      },
      "source": [
        "Здесь вы увидете токен `unk` и `pad`. Первый служит для обозначения слов, которых у нас нет в словаре. Второй служит для того, что объекты в одном батче были одинакового размера."
      ]
    },
    {
      "cell_type": "markdown",
      "metadata": {
        "id": "LxgkU4cZcMcz"
      },
      "source": [
        "Посмотрим с насколько большими предложениями мы имеем дело"
      ]
    },
    {
      "cell_type": "code",
      "metadata": {
        "id": "dVpMi1_0xoku",
        "scrolled": true,
        "colab": {
          "base_uri": "https://localhost:8080/",
          "height": 410
        },
        "outputId": "667eab00-6300-4460-df21-19921d09b098"
      },
      "source": [
        "import matplotlib.pyplot as plt\n",
        "\n",
        "# Извлекаем длины предложений из train_data\n",
        "train_sentences = [pos_data[idx] for idx in train_data.indices]  # Берём только train\n",
        "lengths = [len(sentence) for sentence in train_sentences]\n",
        "\n",
        "# Построение гистограммы\n",
        "plt.figure(figsize=[12, 4])\n",
        "plt.title(\"Length distribution in Train data\")\n",
        "plt.hist(lengths, bins=20)\n",
        "plt.xlabel(\"Sentence Length\")\n",
        "plt.ylabel(\"Frequency\")\n",
        "plt.show()"
      ],
      "execution_count": 27,
      "outputs": [
        {
          "output_type": "display_data",
          "data": {
            "text/plain": [
              "<Figure size 1200x400 with 1 Axes>"
            ],
            "image/png": "[encoded data removed]"
          },
          "metadata": {}
        }
      ]
    },
    {
      "cell_type": "markdown",
      "metadata": {
        "id": "yi28N2RBcMc5"
      },
      "source": [
        "Для обучения `LSTM` лучше использовать colab"
      ]
    },
    {
      "cell_type": "code",
      "metadata": {
        "id": "LAGSrqWsxok2",
        "scrolled": true,
        "colab": {
          "base_uri": "https://localhost:8080/"
        },
        "outputId": "56dfdfdf-00f3-485c-a7d3-cbf9d7b6ae94"
      },
      "source": [
        "import torch\n",
        "from torch import nn\n",
        "import torch.nn.functional as F\n",
        "import torch.optim as optim\n",
        "\n",
        "device = torch.device('cuda' if torch.cuda.is_available() else 'cpu')\n",
        "device"
      ],
      "execution_count": 28,
      "outputs": [
        {
          "output_type": "execute_result",
          "data": {
            "text/plain": [
              "device(type='cuda')"
            ]
          },
          "metadata": {},
          "execution_count": 28
        }
      ]
    },
    {
      "cell_type": "markdown",
      "metadata": {
        "id": "2DSWm0UjcMc-"
      },
      "source": [
        "Для более быстрого и устойчивого обучения сгруппируем наши данные по батчам"
      ]
    },
    {
      "cell_type": "code",
      "metadata": {
        "id": "dmwAyhNgxok_",
        "colab": {
          "base_uri": "https://localhost:8080/"
        },
        "outputId": "1a0ff114-212f-451a-9c42-4addb941015f"
      },
      "source": [
        "from torch.utils.data import DataLoader\n",
        "from torch.nn.utils.rnn import pad_sequence\n",
        "\n",
        "BATCH_SIZE = 32\n",
        "PAD_IDX = word_vocab[\"<pad>\"]  # Индекс паддинга\n",
        "\n",
        "# Функция для сортировки и паддинга\n",
        "def collate_fn(batch):\n",
        "    batch.sort(key=lambda x: len(x[0]), reverse=True)  # Сортируем по длине предложения\n",
        "\n",
        "    # Распаковываем слова и теги для каждого предложения\n",
        "    words, tags = zip(*[zip(*sentence) for sentence in batch])\n",
        "\n",
        "    # # Выводим структуру батча для отладки\n",
        "    # print('batch', batch[:2])\n",
        "    # print(f\"Words: {words}\")\n",
        "    # print(f\"Tags: {tags}\")\n",
        "\n",
        "    # Преобразуем в тензоры и паддим до максимальной длины в батче\n",
        "    words_tensor = pad_sequence([torch.tensor(word_vocab.lookup_indices(list(sent))) for sent in words],\n",
        "                                padding_value=PAD_IDX, batch_first=True)\n",
        "    tags_tensor = pad_sequence([torch.tensor(tag_vocab.lookup_indices(list(sent))) for sent in tags],\n",
        "                               padding_value=tag_vocab[\"<unk>\"], batch_first=True)\n",
        "\n",
        "    return words_tensor, tags_tensor\n",
        "\n",
        "\n",
        "# Создаём DataLoader для train, valid и test\n",
        "train_dataloader = DataLoader([pos_data[i] for i in train_data.indices],\n",
        "                              batch_size=BATCH_SIZE, shuffle=True, collate_fn=collate_fn)\n",
        "valid_dataloader = DataLoader([pos_data[i] for i in valid_data.indices],\n",
        "                              batch_size=BATCH_SIZE, shuffle=False, collate_fn=collate_fn)\n",
        "test_dataloader = DataLoader([pos_data[i] for i in test_data.indices],\n",
        "                             batch_size=BATCH_SIZE, shuffle=False, collate_fn=collate_fn)\n",
        "\n",
        "# Вывод количества батчей\n",
        "print(len(train_dataloader), len(valid_dataloader), len(test_dataloader))"
      ],
      "execution_count": 29,
      "outputs": [
        {
          "output_type": "stream",
          "name": "stdout",
          "text": [
            "1434 180 180\n"
          ]
        }
      ]
    },
    {
      "cell_type": "code",
      "source": [
        "# Проверяем батч из train_loader\n",
        "for batch in train_loader:\n",
        "    print('batch:', batch)\n",
        "    words, tags = batch\n",
        "    print(f\"Words batch shape: {words.shape}\")\n",
        "    print(f\"Tags batch shape: {tags.shape}\")\n",
        "    break"
      ],
      "metadata": {
        "colab": {
          "base_uri": "https://localhost:8080/"
        },
        "id": "Bxvn2zAmAC3M",
        "outputId": "5abd3b29-3a7e-47e1-9fef-ddb13c15dee5"
      },
      "execution_count": 30,
      "outputs": [
        {
          "output_type": "stream",
          "name": "stdout",
          "text": [
            "batch: (tensor([[    2,   685,   693,  ...,     0,     0,     0],\n",
            "        [ 7313,    12,   566,  ...,     0,     0,     0],\n",
            "        [   13,   228,   232,  ...,     0,     0,     0],\n",
            "        ...,\n",
            "        [   32,    46,    12,  ...,     0,     0,     0],\n",
            "        [38921,    79,    79,  ...,     0,     0,     0],\n",
            "        [   13,  1777,    21,  ...,     0,     0,     0]]), tensor([[ 5,  1,  2,  ...,  0,  0,  0],\n",
            "        [ 1,  2,  2,  ...,  0,  0,  0],\n",
            "        [ 8,  2,  2,  ...,  0,  0,  0],\n",
            "        ...,\n",
            "        [ 9, 10,  2,  ...,  0,  0,  0],\n",
            "        [10,  3,  3,  ...,  0,  0,  0],\n",
            "        [ 8,  2,  4,  ...,  0,  0,  0]]))\n",
            "Words batch shape: torch.Size([32, 57])\n",
            "Tags batch shape: torch.Size([32, 57])\n"
          ]
        }
      ]
    },
    {
      "cell_type": "markdown",
      "metadata": {
        "id": "zyLQsizhcMdI"
      },
      "source": [
        "### Модель и её обучение"
      ]
    },
    {
      "cell_type": "markdown",
      "metadata": {
        "id": "-i9oHzcrcMdJ"
      },
      "source": [
        "Инициализируем нашу модель. Прочитайте про dropout [тут](https://habr.com/ru/company/wunderfund/blog/330814/). **(3 балла)**"
      ]
    },
    {
      "cell_type": "code",
      "metadata": {
        "id": "Ff7BLWs_xolS",
        "scrolled": true,
        "colab": {
          "base_uri": "https://localhost:8080/"
        },
        "outputId": "4166ab04-0672-4283-926e-e6d89dd34232"
      },
      "source": [
        "import torch\n",
        "import torch.nn as nn\n",
        "\n",
        "class LSTMTagger(nn.Module):\n",
        "\n",
        "    def __init__(self, input_dim, emb_dim, hid_dim, output_dim, dropout):\n",
        "        super().__init__()\n",
        "\n",
        "        # Слой эмбеддингов\n",
        "        self.embeddings = nn.Embedding(input_dim, emb_dim, padding_idx=word_vocab[\"<pad>\"])\n",
        "        self.dropout = nn.Dropout(p=dropout)\n",
        "\n",
        "        # LSTM (1 слой, двунаправленный)\n",
        "        self.rnn = nn.LSTM(input_size=emb_dim,\n",
        "                           hidden_size=hid_dim,\n",
        "                           num_layers=1,\n",
        "                           bidirectional=True,\n",
        "                           batch_first=True)\n",
        "\n",
        "        # Линейный слой для предсказания тегов\n",
        "        self.tag = nn.Linear(hid_dim * 2, output_dim)  # ×2 из-за bidirectional\n",
        "\n",
        "    def forward(self, sent):\n",
        "        # sent = [batch size, sent len]\n",
        "\n",
        "        # Применяем эмбеддинги и dropout\n",
        "        embedded = self.dropout(self.embeddings(sent))\n",
        "        # embedded = [batch size, sent len, emb_dim]\n",
        "\n",
        "        # Пропускаем через LSTM\n",
        "        output, _ = self.rnn(embedded)\n",
        "        # output = [batch size, sent len, hid_dim * 2]\n",
        "\n",
        "        prediction = self.tag(output)\n",
        "        # prediction = [batch size, sent len, output_dim]\n",
        "\n",
        "        return prediction\n",
        "\n",
        "# Параметры модели\n",
        "INPUT_DIM = len(word_vocab)\n",
        "OUTPUT_DIM = len(tag_vocab)\n",
        "EMB_DIM = 100   # Размерность эмбеддингов\n",
        "HID_DIM = 256   # Размер скрытого состояния LSTM\n",
        "DROPOUT = 0.5\n",
        "\n",
        "device = torch.device(\"cuda\" if torch.cuda.is_available() else \"cpu\")\n",
        "\n",
        "# Создаём модель\n",
        "model = LSTMTagger(INPUT_DIM, EMB_DIM, HID_DIM, OUTPUT_DIM, DROPOUT).to(device)\n",
        "\n",
        "# Инициализация весов\n",
        "def init_weights(m):\n",
        "    if isinstance(m, nn.Linear) or isinstance(m, nn.Embedding):\n",
        "        nn.init.uniform_(m.weight, -0.08, 0.08)\n",
        "    if isinstance(m, nn.LSTM):\n",
        "        for name, param in m.named_parameters():\n",
        "            if \"weight\" in name:\n",
        "                nn.init.xavier_uniform_(param)\n",
        "\n",
        "model.apply(init_weights)\n",
        "\n",
        "print(model)\n"
      ],
      "execution_count": 31,
      "outputs": [
        {
          "output_type": "stream",
          "name": "stdout",
          "text": [
            "LSTMTagger(\n",
            "  (embeddings): Embedding(18078, 100, padding_idx=0)\n",
            "  (dropout): Dropout(p=0.5, inplace=False)\n",
            "  (rnn): LSTM(100, 256, batch_first=True, bidirectional=True)\n",
            "  (tag): Linear(in_features=512, out_features=13, bias=True)\n",
            ")\n"
          ]
        }
      ]
    },
    {
      "cell_type": "markdown",
      "metadata": {
        "id": "EJLqq8IHcMdQ"
      },
      "source": [
        "Подсчитаем количество обучаемых параметров нашей модели. Используйте метод `numel()`. **(1 балл)**"
      ]
    },
    {
      "cell_type": "code",
      "metadata": {
        "id": "_Auu53Kdxolm",
        "colab": {
          "base_uri": "https://localhost:8080/"
        },
        "outputId": "6b441d78-6d35-4a1d-dbfe-9ca2870555c6"
      },
      "source": [
        "def count_parameters(model):\n",
        "    return sum(p.numel() for p in model.parameters() if p.requires_grad)\n",
        "\n",
        "print(f'The model has {count_parameters(model):,} trainable parameters')"
      ],
      "execution_count": 32,
      "outputs": [
        {
          "output_type": "stream",
          "name": "stdout",
          "text": [
            "The model has 2,547,653 trainable parameters\n"
          ]
        }
      ]
    },
    {
      "cell_type": "markdown",
      "metadata": {
        "id": "oSBfvf9HcMd9"
      },
      "source": [
        "Погнали обучать **(2 балла)**"
      ]
    },
    {
      "cell_type": "code",
      "metadata": {
        "id": "AjD1Y7Rmxolu",
        "scrolled": true
      },
      "source": [
        "\n",
        "optimizer = optim.Adam(model.parameters())\n",
        "criterion = nn.CrossEntropyLoss(ignore_index=PAD_IDX)\n",
        "\n",
        "def train(model, iterator, optimizer, criterion, clip, train_history=None, valid_history=None):\n",
        "    model.train()\n",
        "    epoch_loss = 0\n",
        "    history = []\n",
        "\n",
        "    for i, batch in enumerate(iterator):\n",
        "        words = batch[0].to(device)  # Вытаскиваем слова из батча\n",
        "        tags = batch[1].to(device)  # Вытаскиваем теги\n",
        "\n",
        "        optimizer.zero_grad()\n",
        "\n",
        "        output = model(words)  # Прогоняем через модель\n",
        "\n",
        "        # tags = [sent len, batch size]\n",
        "        # output = [sent len, batch size, output dim]\n",
        "\n",
        "        output = output.view(-1, output.shape[-1])  # Разворачиваем выход в нужную форму\n",
        "        tags = tags.view(-1)  # Разворачиваем метки в 1D\n",
        "\n",
        "        # tags = [sent len * batch size]\n",
        "        # output = [sent len * batch size, output dim]\n",
        "\n",
        "        loss = criterion(output, tags)  # Вычисляем loss\n",
        "\n",
        "        loss.backward()\n",
        "\n",
        "        # Gradient clipping (ограничение нормы градиента)\n",
        "        torch.nn.utils.clip_grad_norm_(model.parameters(), max_norm=clip)\n",
        "\n",
        "        optimizer.step()\n",
        "\n",
        "        epoch_loss += loss.item()\n",
        "        history.append(loss.cpu().data.numpy())\n",
        "\n",
        "        if (i + 1) % 10 == 0:\n",
        "            fig, ax = plt.subplots(nrows=1, ncols=2, figsize=(16, 5))\n",
        "            clear_output(True)\n",
        "            ax[0].plot(history, label='train loss')\n",
        "            ax[0].set_xlabel('Batch')\n",
        "            ax[0].set_title('Train loss')\n",
        "\n",
        "            if train_history is not None:\n",
        "                ax[1].plot(train_history, label='general train history')\n",
        "                ax[1].set_xlabel('Epoch')\n",
        "            if valid_history is not None:\n",
        "                ax[1].plot(valid_history, label='general valid history')\n",
        "\n",
        "            plt.legend()\n",
        "            plt.show()\n",
        "\n",
        "    return epoch_loss / len(iterator)\n",
        "\n",
        "def evaluate(model, iterator, criterion):\n",
        "    model.eval()\n",
        "    epoch_loss = 0\n",
        "\n",
        "    with torch.no_grad():\n",
        "        for batch in iterator:\n",
        "            words = batch[0].to(device)  # Вытаскиваем слова\n",
        "            tags = batch[1].to(device)  # Вытаскиваем теги\n",
        "\n",
        "            output = model(words)  # Прогоняем через модель\n",
        "\n",
        "            output = output.view(-1, output.shape[-1])  # Разворачиваем выход\n",
        "            tags = tags.view(-1)  # Разворачиваем метки\n",
        "\n",
        "            loss = criterion(output, tags)  # Вычисляем loss\n",
        "\n",
        "            epoch_loss += loss.item()\n",
        "\n",
        "    return epoch_loss / len(iterator)\n",
        "\n",
        "def epoch_time(start_time, end_time):\n",
        "    elapsed_time = end_time - start_time\n",
        "    elapsed_mins = int(elapsed_time / 60)\n",
        "    elapsed_secs = int(elapsed_time - (elapsed_mins * 60))\n",
        "    return elapsed_mins, elapsed_secs\n"
      ],
      "execution_count": 36,
      "outputs": []
    },
    {
      "cell_type": "code",
      "metadata": {
        "id": "TJdXIyTHxol2",
        "scrolled": false,
        "colab": {
          "base_uri": "https://localhost:8080/",
          "height": 784
        },
        "outputId": "64d543b6-7a6a-4d19-ba2b-2c6bdd65b0f3"
      },
      "source": [
        "import time\n",
        "import math\n",
        "import torch\n",
        "import matplotlib\n",
        "import matplotlib.pyplot as plt\n",
        "from IPython.display import clear_output\n",
        "\n",
        "train_history = []\n",
        "valid_history = []\n",
        "\n",
        "N_EPOCHS = 10  # Количество эпох\n",
        "CLIP = 1  # Ограничение градиента\n",
        "\n",
        "best_valid_loss = float('inf')\n",
        "\n",
        "for epoch in range(N_EPOCHS):\n",
        "    start_time = time.time()\n",
        "\n",
        "    train_loss = train(model, train_dataloader, optimizer, criterion, CLIP, train_history, valid_history)\n",
        "    valid_loss = evaluate(model, valid_dataloader, criterion)\n",
        "\n",
        "    end_time = time.time()\n",
        "    epoch_mins, epoch_secs = epoch_time(start_time, end_time)\n",
        "\n",
        "    if valid_loss < best_valid_loss:\n",
        "        best_valid_loss = valid_loss\n",
        "        torch.save(model.state_dict(), 'best-val-model.pt')\n",
        "\n",
        "    train_history.append(train_loss)\n",
        "    valid_history.append(valid_loss)\n",
        "\n",
        "    print(f'Epoch: {epoch+1:02} | Time: {epoch_mins}m {epoch_secs}s')\n",
        "    print(f'\\tTrain Loss: {train_loss:.3f} | Train PPL: {math.exp(train_loss):7.3f}')\n",
        "    print(f'\\t Val. Loss: {valid_loss:.3f} |  Val. PPL: {math.exp(valid_loss):7.3f}')\n"
      ],
      "execution_count": 37,
      "outputs": [
        {
          "output_type": "display_data",
          "data": {
            "text/plain": [
              "<Figure size 1200x800 with 2 Axes>"
            ],
            "image/png": "[encoded data removed]"
          },
          "metadata": {}
        },
        {
          "output_type": "stream",
          "name": "stdout",
          "text": [
            "Epoch: 10 | Time: 1m 2s\n",
            "\tTrain Loss: 0.034 | Train PPL:   1.034\n",
            "\t Val. Loss: 0.091 |  Val. PPL:   1.096\n"
          ]
        }
      ]
    },
    {
      "cell_type": "markdown",
      "metadata": {
        "id": "Fr860UPacMeI"
      },
      "source": [
        "### Применение модели\n",
        " **(1 балл)**"
      ]
    },
    {
      "cell_type": "code",
      "metadata": {
        "id": "5sDAfAq9xol9"
      },
      "source": [
        "import numpy as np\n",
        "import torch\n",
        "\n",
        "def accuracy_model(model, iterator):\n",
        "    model.eval()\n",
        "\n",
        "    true_pred = 0\n",
        "    num_pred = 0\n",
        "\n",
        "    with torch.no_grad():\n",
        "        for i, batch in enumerate(iterator):\n",
        "            words = batch[0].to(device)  # Переносим данные на нужное устройство (GPU или CPU)\n",
        "            tags = batch[1].to(device)  # Переносим метки на нужное устройство\n",
        "\n",
        "            output = model(words)  # Прогоняем данные через модель\n",
        "\n",
        "            # output = [sent len, batch size, output dim]\n",
        "            # Получаем индексы тегов с максимальной вероятностью\n",
        "            output = torch.argmax(output, dim=-1)  # Получаем индексы тегов для каждого слова\n",
        "\n",
        "            # output = [sent len, batch size] (теперь это индексы тегов)\n",
        "            predict_tags = output.cpu().numpy()  # Переносим на CPU и преобразуем в numpy\n",
        "            true_tags = tags.cpu().numpy()  # Переносим на CPU и преобразуем в numpy\n",
        "\n",
        "            # Считаем, сколько предсказанных тегов совпали с истинными тегами\n",
        "            true_pred += np.sum((true_tags == predict_tags) & (true_tags != PAD_IDX))\n",
        "            num_pred += np.prod(true_tags.shape) - (true_tags == PAD_IDX).sum()\n",
        "\n",
        "    # Возвращаем точность в процентах\n",
        "    return round(true_pred / num_pred * 100, 3)\n"
      ],
      "execution_count": 40,
      "outputs": []
    },
    {
      "cell_type": "code",
      "metadata": {
        "id": "V2n0H85mxomE",
        "scrolled": true,
        "colab": {
          "base_uri": "https://localhost:8080/"
        },
        "outputId": "7c86a227-c93d-4eba-b5d7-8af87b27766c"
      },
      "source": [
        "print(\"Accuracy:\", accuracy_model(model, test_dataloader), '%')"
      ],
      "execution_count": 41,
      "outputs": [
        {
          "output_type": "stream",
          "name": "stdout",
          "text": [
            "Accuracy: 97.288 %\n"
          ]
        }
      ]
    },
    {
      "cell_type": "markdown",
      "metadata": {
        "id": "FacTKSPJcMeP"
      },
      "source": [
        "Вы можете улучшить качество, изменяя параметры модели. Вам неоходимо добиться качества не меньше, чем `accuracy = 92 %`."
      ]
    },
    {
      "cell_type": "code",
      "metadata": {
        "id": "TqD1lZuwxomK",
        "scrolled": true
      },
      "source": [
        "best_model = LSTMTagger(INPUT_DIM, EMB_DIM, HID_DIM, OUTPUT_DIM, DROPOUT).to(device)\n",
        "best_model.load_state_dict(torch.load('best-val-model.pt'))\n",
        "assert accuracy_model(best_model, test_dataloader) >= 92"
      ],
      "execution_count": 42,
      "outputs": []
    },
    {
      "cell_type": "markdown",
      "metadata": {
        "id": "nqnaeXi6sKl5"
      },
      "source": [
        "### **Если качество сети меньше 92 процентов, то снимается половина от всех полученных баллов .<br> То есть максимум в этом случае 5 баллов за работу.**\n",
        "\n",
        "\n"
      ]
    },
    {
      "cell_type": "markdown",
      "metadata": {
        "id": "nVfdJM-lcMeZ"
      },
      "source": [
        "Пример решение нашей задачи:"
      ]
    },
    {
      "cell_type": "code",
      "metadata": {
        "id": "W3GUbwldxomW"
      },
      "source": [
        "def print_tags(model, data, word_vocab, tag_vocab, device):\n",
        "    model.eval()\n",
        "\n",
        "    with torch.no_grad():\n",
        "        # Извлекаем слова и теги из данных\n",
        "        words, _ = zip(*data)  # Извлекаем только слова (первый элемент кортежа)\n",
        "\n",
        "        # Преобразуем слова в индексы\n",
        "        word_indices = [word_vocab[token] for token in words]\n",
        "\n",
        "        # Преобразуем в тензор и переносим на нужное устройство\n",
        "        word_tensor = torch.tensor(word_indices).unsqueeze(1).to(device)  # [seq_len, 1]\n",
        "\n",
        "        # Прогоняем слова через модель\n",
        "        output = model(word_tensor)\n",
        "\n",
        "        # Для каждого слова выбираем тег с максимальной вероятностью\n",
        "        predicted_tags = torch.argmax(output, dim=-1).cpu().numpy().flatten()  # Разворачиваем в одномерный массив\n",
        "\n",
        "        # Получаем список тегов из tag_vocab\n",
        "        tag_itos = tag_vocab.get_itos()\n",
        "\n",
        "        # Печатаем токены и их предсказанные теги\n",
        "        for token, pred_idx in zip(words, predicted_tags):\n",
        "            tag = tag_itos[pred_idx]  # Получаем тег по индексу\n",
        "            print(f'{token:15s}{tag}')"
      ],
      "execution_count": 68,
      "outputs": []
    },
    {
      "cell_type": "code",
      "metadata": {
        "scrolled": false,
        "id": "4mQoHc_EcMed",
        "colab": {
          "base_uri": "https://localhost:8080/"
        },
        "outputId": "995554cb-af11-41c1-8fc3-a5ea05648e65"
      },
      "source": [
        "# Пример вызова функции\n",
        "print_tags(model, pos_data[-1], word_vocab, tag_vocab, device)"
      ],
      "execution_count": 69,
      "outputs": [
        {
          "output_type": "stream",
          "name": "stdout",
          "text": [
            "coral-colored  NOUN\n",
            "stupefying     NOUN\n",
            "greedy         ADJ\n",
            "glance         VERB\n",
            "figure         NOUN\n",
            "inside         ADP\n",
            "boucle         NOUN\n",
            "gauge          NOUN\n",
            "swift          NOUN\n",
            "dress          NOUN\n",
            "from           ADP\n",
            "what           DET\n",
            "able           ADJ\n",
            "was            VERB\n",
            "the            DET\n",
            "the            DET\n",
            "was            VERB\n",
            "to             ADP\n",
            "in             ADP\n",
            "i              PRON\n",
            "a              DET\n",
            ",              .\n",
            ",              .\n",
            ".              .\n"
          ]
        }
      ]
    },
    {
      "cell_type": "markdown",
      "metadata": {
        "heading_collapsed": true,
        "id": "zMIJDOBmwC6v"
      },
      "source": [
        "## Вывод:\n",
        "**(0.5 балл)**"
      ]
    },
    {
      "cell_type": "markdown",
      "source": [
        "В ходе проделанной работы была построена и обучена модель для решения задачи тегирования частей речи (POS tagging). Мы использовали датасет с текстовыми предложениями и соответствующими тегами, а также применили словари для преобразования токенов и тегов в индексы для подачи в модель.\n",
        "\n",
        "После обучения модель была протестирована на данных, и достигнутый результат точности (accuracy) составил 97.288%. Это высокий показатель, который свидетельствует о хорошей способности модели правильно классифицировать части речи в текстах.\n",
        "\n",
        "Данный результат демонстрирует успешное применение подхода на основе нейронных сетей для решения задачи POS тегирования с высоким качеством."
      ],
      "metadata": {
        "id": "-9sAnGVJXu3a"
      }
    }
  ]
}